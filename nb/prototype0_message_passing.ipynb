{
 "cells": [
  {
   "cell_type": "code",
   "execution_count": null,
   "metadata": {},
   "outputs": [],
   "source": [
    "from collections import defaultdict\n",
    "from statistics import mean, stdev\n",
    "from math import sqrt, exp, prod, log, log1p\n",
    "from pprint import pprint"
   ]
  },
  {
   "cell_type": "code",
   "execution_count": null,
   "metadata": {},
   "outputs": [],
   "source": []
  },
  {
   "cell_type": "code",
   "execution_count": null,
   "metadata": {},
   "outputs": [],
   "source": [
    "COMPLEMENT = {\n",
    "    'A': 'T',\n",
    "    'C': 'G',\n",
    "    'G': 'C',\n",
    "    'T': 'A',\n",
    "}\n",
    "def complement(a):\n",
    "    return COMPLEMENT[a]\n",
    "\n",
    "def reverse_complement(kmer):\n",
    "    return ''.join(complement(a) for a in reversed(kmer))\n",
    "\n",
    "def canonical(kmer):\n",
    "    return min(kmer, reverse_complement(kmer))\n",
    "\n",
    "def build_full_from_seed_graph(downstream_):\n",
    "    upstream = defaultdict(list)\n",
    "    downstream = defaultdict(list)\n",
    "#     downstream.update(downstream_)\n",
    "    for kmer in downstream_:\n",
    "        rc_kmer = reverse_complement(kmer)\n",
    "        for kmer_downstream in downstream_[kmer]:\n",
    "            downstream[kmer].append(kmer_downstream)  # Kept for explanability; could have been done with update above.\n",
    "            upstream[kmer_downstream].append(kmer)\n",
    "            rc_kmer_downstream = reverse_complement(kmer_downstream)\n",
    "            downstream[rc_kmer_downstream].append(rc_kmer)\n",
    "            upstream[rc_kmer].append(rc_kmer_downstream)\n",
    "    return downstream, upstream\n",
    "\n",
    "def add_reverse_complement_depth(depth_):\n",
    "    depth = defaultdict(lambda: 0)\n",
    "    for kmer in depth_:\n",
    "        depth[kmer] = depth_[kmer]\n",
    "        depth[reverse_complement(kmer)] = depth_[kmer]\n",
    "    return depth\n",
    "\n",
    "def is_ordered(upstream, downstream):\n",
    "    return upstream[1:] == downstream[:-1]\n",
    "    \n",
    "def mapping_all_upstream(graph):\n",
    "    for k in graph:\n",
    "        for u in graph[k]:\n",
    "            if not is_ordered(u, k):\n",
    "                return False\n",
    "    return True"
   ]
  },
  {
   "cell_type": "code",
   "execution_count": null,
   "metadata": {},
   "outputs": [],
   "source": [
    "seed = {\n",
    "    'TACG': ['ACGC', 'ACGG'],\n",
    "    'ACGG': ['CGGT'],\n",
    "    'TCGG': ['CGGT'],\n",
    "}\n",
    "downstream, upstream = build_full_from_seed_graph(seed)\n",
    "\n",
    "observed_depth = add_reverse_complement_depth({\n",
    "    'ACGC': 4,\n",
    "    'TACG': 9,\n",
    "    'ACGG': 5,\n",
    "    'CGGT': 7,\n",
    "    'TCGG': 2,\n",
    "})"
   ]
  },
  {
   "cell_type": "code",
   "execution_count": null,
   "metadata": {},
   "outputs": [],
   "source": [
    "assert mapping_all_upstream(upstream)\n",
    "upstream, observed_depth"
   ]
  },
  {
   "cell_type": "code",
   "execution_count": null,
   "metadata": {},
   "outputs": [],
   "source": [
    "def node_action(current_depth_estimate, messages_from_upstream, messages_from_downstream, graph_upstream, graph_downstream):\n",
    "    # Find out if there's a discrepancy between what upstream wants to send\n",
    "    # what downstream wants to accept, and what the nodes own depth estimate is.\n",
    "    # The node needs, sum(accept) = sum(send) = self-depth.\n",
    "    # So it will definitely accept and send the same amount as self-depth,\n",
    "    # however, it'll update its own depth first based on the suggestions it's receiving\n",
    "    # and then it'll send/accept depth from the local nodes\n",
    "    # proportional to what it received.\n",
    "    total_from_upstream = sum([messages_from_upstream[k] for k in upstream)\n",
    "\n",
    "def update_all(upstream, downstream, current_depth):\n",
    "    current_depth = current_depth.copy()\n",
    "    message_to_upstream = defaultdict(lambda: [])\n",
    "    message_to_downstream = defaultdict(lambda: [])\n",
    "    \n",
    "    for k in current_depth:\n",
    "        up_total = sum([current_depth[x] for x in upstream[k]])\n",
    "        down_total = sum([current_depth[x] for x in downstream[k]])\n",
    "        message_to_upstream[k] = log1p(current_depth[k]) - log1p(up_total)\n",
    "        message_to_downstream[k] = log1p(current_depth[k]) - log1p(down_total)\n",
    "\n",
    "    new_depth = defaultdict(lambda: 0)\n",
    "    for k in current_depth:\n",
    "        messages_from_upstream = [message_to_downstream[x] for x in upstream[k]]\n",
    "        messages_from_downstream = [message_to_upstream[x] for x in downstream[k]]\n",
    "\n",
    "        sum_upstream = sum(messages_from_upstream)\n",
    "        sum_downstream = sum(messages_from_downstream)\n",
    "        mean_suggestion = mean([sum_upstream, sum_downstream])\n",
    "        disagreement = (sum(messages_from_upstream) - sum(messages_from_downstream))\n",
    "        update = mean_suggestion / (2 + disagreement**2)\n",
    "        new_depth[k] = current_depth[k] * exp(update)\n",
    "        print(f'{k} {current_depth[k]:+0.2f} {mean_suggestion:+0.2f} {disagreement:+0.2f} {update:+0.2f} {new_depth[k]:+0.2f}')\n",
    "\n",
    "    return new_depth"
   ]
  },
  {
   "cell_type": "code",
   "execution_count": null,
   "metadata": {},
   "outputs": [],
   "source": [
    "\n",
    "\n",
    "current_depth = observed_depth.copy()\n",
    "for _ in range(1):\n",
    "    current_depth = one_pass_update(upstream, downstream, current_depth)\n",
    "pprint(current_depth)"
   ]
  },
  {
   "cell_type": "code",
   "execution_count": null,
   "metadata": {},
   "outputs": [],
   "source": [
    "seed = {\n",
    "    'ACCCG': ['CCCGG'],\n",
    "    'CCCGG': ['CCGGT'],\n",
    "    'CCGGT': ['CGGTA'],\n",
    "    'CGGTA': ['GGTAC'],\n",
    "    'GGTAC': ['GTACC'],\n",
    "    'GTACC': ['TACCC'],\n",
    "    'TACCC': ['ACCCG'],\n",
    "}\n",
    "downstream, upstream = build_full_from_seed_graph(seed)\n",
    "\n",
    "observed_depth = add_reverse_complement_depth({\n",
    "    'ACCCG': 1,\n",
    "    'CCCGG': 1,\n",
    "    'CCGGT': 1,\n",
    "    'CGGTA': 1,\n",
    "    'GGTAC': 1,\n",
    "    'GTACC': 1,\n",
    "    'TACCC': 1,\n",
    "})\n",
    "\n",
    "downstream"
   ]
  },
  {
   "cell_type": "code",
   "execution_count": null,
   "metadata": {},
   "outputs": [],
   "source": [
    "current_depth = observed_depth.copy()\n",
    "for _ in range(1):\n",
    "    current_depth = one_pass_update(upstream, downstream, current_depth)\n",
    "pprint(current_depth)"
   ]
  },
  {
   "cell_type": "code",
   "execution_count": null,
   "metadata": {},
   "outputs": [],
   "source": [
    "import pandas as pd\n",
    "import numpy as np"
   ]
  },
  {
   "cell_type": "code",
   "execution_count": null,
   "metadata": {},
   "outputs": [],
   "source": [
    "depth0 = pd.Series(observed_depth)\n",
    "n = len(depth0)\n",
    "depth0"
   ]
  },
  {
   "cell_type": "code",
   "execution_count": null,
   "metadata": {},
   "outputs": [],
   "source": [
    "np.zeros(())"
   ]
  }
 ],
 "metadata": {
  "kernelspec": {
   "display_name": "Python 3",
   "language": "python",
   "name": "python3"
  },
  "language_info": {
   "codemirror_mode": {
    "name": "ipython",
    "version": 3
   },
   "file_extension": ".py",
   "mimetype": "text/x-python",
   "name": "python",
   "nbconvert_exporter": "python",
   "pygments_lexer": "ipython3",
   "version": "3.8.5"
  }
 },
 "nbformat": 4,
 "nbformat_minor": 4
}