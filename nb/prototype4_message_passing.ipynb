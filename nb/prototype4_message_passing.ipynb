{
 "cells": [
  {
   "cell_type": "code",
   "execution_count": 1,
   "metadata": {},
   "outputs": [],
   "source": [
    "%load_ext autoreload\n",
    "%autoreload 2"
   ]
  },
  {
   "cell_type": "code",
   "execution_count": 2,
   "metadata": {},
   "outputs": [],
   "source": [
    "import lib.assembly_graph\n",
    "import lib.plot\n",
    "import matplotlib.pyplot as plt\n",
    "import pandas as pd\n",
    "import numpy as np\n",
    "import seaborn as sns\n",
    "import scipy as sp\n",
    "from collections import defaultdict\n",
    "from itertools import chain\n",
    "\n",
    "from tqdm import tqdm\n",
    "\n",
    "np.random.seed(1)"
   ]
  },
  {
   "cell_type": "code",
   "execution_count": 3,
   "metadata": {},
   "outputs": [],
   "source": [
    "def simulate_sequence(n):\n",
    "    sequence = ''.join(np.random.choice(['A', 'C', 'G', 'T'], size=n))\n",
    "    return sequence\n",
    "\n",
    "\n",
    "def collect_kmers(sequences):\n",
    "    all_kmers = set()\n",
    "    \n",
    "    for seq in sequences:\n",
    "        for i in range(len(seq) - k):\n",
    "            kmer = seq[i: i + k]\n",
    "            if kmer not in all_kmers:\n",
    "                kmer_rc = lib.assembly_graph.reverse_complement(kmer)\n",
    "                all_kmers |= set([kmer, kmer_rc])\n",
    "\n",
    "    return all_kmers\n",
    "\n",
    "\n",
    "def build_seed_from_one_sequence(sequence, k):\n",
    "    # Build graph and simulate depths\n",
    "    seed = defaultdict(set)\n",
    "    last_kmer = sequence[:k]\n",
    "    for i in range(1, len(sequence) - k):\n",
    "        kmer = sequence[i: i + k]\n",
    "        seed[last_kmer].add(kmer)\n",
    "        last_kmer = kmer\n",
    "        \n",
    "    return seed\n",
    "\n",
    "def build_depth_from_seed(seed, depth_fn):\n",
    "    nodes = set(seed.keys()) | set(chain.from_iterable(seed.values()))\n",
    "    depth = defaultdict(lambda: 0)\n",
    "    depth.update({unitig: depth_fn(unitig) for unitig in nodes})\n",
    "    return depth"
   ]
  },
  {
   "cell_type": "code",
   "execution_count": 4,
   "metadata": {},
   "outputs": [],
   "source": [
    "def build_dgraph_from_seed(seed, depth):\n",
    "    right, left = lib.assembly_graph.build_full_from_seed_graph(seed)\n",
    "    depth = pd.Series(lib.assembly_graph.add_reverse_complement_depth(depth)).astype(float)\n",
    "    assert (depth.index.isin(right.keys()) | depth.index.isin(left.keys())).all()\n",
    "    dgraph = pd.DataFrame(np.zeros((len(depth), len(depth))), index=depth.index, columns=depth.index)\n",
    "    for unitig in depth.index:\n",
    "        dgraph.loc[unitig, right[unitig]] = 1\n",
    "    return dgraph, depth"
   ]
  },
  {
   "cell_type": "code",
   "execution_count": 5,
   "metadata": {},
   "outputs": [],
   "source": [
    "def initialize_messages(dgraph, depth):\n",
    "    # Step -1\n",
    "    send_to_r = dgraph\n",
    "    send_to_l = dgraph.T\n",
    "    total_from_l = send_to_r.sum()\n",
    "    total_from_r = send_to_l.sum()\n",
    "    send_to_r_next = (send_to_l / total_from_r).multiply(depth, axis=1).T\n",
    "    send_to_l_next = (send_to_r / total_from_l).multiply(depth, axis=1).T\n",
    "    send_to_r = send_to_r_next.fillna(0)\n",
    "    send_to_l = send_to_l_next.fillna(0)\n",
    "\n",
    "    # Step 0\n",
    "    total_from_l = send_to_r.sum()\n",
    "    total_from_r = send_to_l.sum()\n",
    "    send_to_r_next = (send_to_l / total_from_r).multiply(depth, axis=1).T\n",
    "    send_to_l_next = (send_to_r / total_from_l).multiply(depth, axis=1).T\n",
    "    send_to_r = send_to_r_next.fillna(0)\n",
    "    send_to_l = send_to_l_next.fillna(0)\n",
    "\n",
    "    return send_to_r, send_to_l"
   ]
  },
  {
   "cell_type": "code",
   "execution_count": 6,
   "metadata": {},
   "outputs": [],
   "source": [
    "def mean_depth(r, l, d, weight):\n",
    "    # TODO: Confirm that this broadcasts correctly\n",
    "    return (r + l + weight * d) / (2 + weight)\n",
    "\n",
    "\n",
    "# def gmean_depth(r, l, d, weight):\n",
    "#     assert weight == 1.0\n",
    "#     return ((r + 1) * (l + 1) * (d + 1))**(1/3)\n",
    "\n",
    "# def hmean_depth(r, l, d, weight):\n",
    "#     assert weight == 1.0\n",
    "#     return (3 / (1 / (r + 1) + 1 / (l + 1) + 1 / (d + 1)))\n",
    "\n",
    "\n",
    "def iterate_messages_poc(\n",
    "    send_to_r,\n",
    "    send_to_l,\n",
    "    depth,\n",
    "    new_depth_fn=mean_depth,\n",
    "    weight=1.0,\n",
    "):\n",
    "    total_from_l = send_to_r.sum()\n",
    "    total_from_r = send_to_l.sum()\n",
    "    # Update depth\n",
    "    next_depth = new_depth_fn(total_from_r, total_from_l, depth, weight)\n",
    "    # Scale the depth so there's no overall loss.\n",
    "    depth = next_depth * (depth.sum() / next_depth.sum())\n",
    "    # Calculate next message\n",
    "    send_to_r_next = (send_to_l / total_from_r).multiply(depth, axis=1).T\n",
    "    send_to_l_next = (send_to_r / total_from_l).multiply(depth, axis=1).T\n",
    "    send_to_r = send_to_r_next.fillna(0)\n",
    "    send_to_l = send_to_l_next.fillna(0)\n",
    "    return send_to_r, send_to_l, depth\n",
    "\n",
    "\n",
    "def iterate_messages(\n",
    "    send_to_r,\n",
    "    send_to_l,\n",
    "    depth,\n",
    "    new_depth_fn=mean_depth,\n",
    "    weight=1.0,\n",
    "):\n",
    "    total_from_l = send_to_r.sum(0)\n",
    "    total_from_r = send_to_l.sum(0)\n",
    "    # Update depth\n",
    "    next_depth = new_depth_fn(total_from_r, total_from_l, depth, weight)\n",
    "    # Scale the depth so there's no overall loss.\n",
    "    depth = next_depth * (depth.sum() / next_depth.sum())\n",
    "    # Calculate next message\n",
    "    proportions_r = np.nan_to_num(send_to_l / total_from_r)\n",
    "    proportions_l = np.nan_to_num(send_to_r / total_from_l)\n",
    "    send_to_r_next = (proportions_r * depth).T\n",
    "    send_to_l_next = (proportions_l * depth).T\n",
    "    send_to_r = send_to_r_next\n",
    "    send_to_l = send_to_l_next\n",
    "    return send_to_r, send_to_l, depth\n",
    "\n",
    "\n",
    "def run_message_passing(seed, observed_depth, thresh=1e-3):\n",
    "    dgraph, depth0 = build_dgraph_from_seed(seed, observed_depth)\n",
    "    send_to_r, send_to_l = initialize_messages(dgraph, depth0)\n",
    "\n",
    "    # Switch things to raw numpy arrays:\n",
    "    send_to_r, send_to_l = send_to_r.values, send_to_l.values\n",
    "    depth = depth0.values\n",
    "    tbar = tqdm(position=0, leave=True)\n",
    "    while True:\n",
    "        send_to_r, send_to_l, new_depth = iterate_messages(\n",
    "            send_to_r, send_to_l, depth, new_depth_fn=mean_depth,\n",
    "        )\n",
    "        delta = new_depth - depth\n",
    "        change = np.sqrt(np.sum(np.square(new_depth - depth)))\n",
    "        depth = new_depth\n",
    "        tbar.update()\n",
    "        tbar.set_postfix({'change': change})\n",
    "        if change < thresh:\n",
    "            print(\"CONVERGED\")\n",
    "            break\n",
    "    # Recover labels\n",
    "    send_to_r, send_to_l = [pd.DataFrame(send, index=dgraph.index, columns=dgraph.columns) for send in [send_to_r, send_to_l]]\n",
    "    depth = pd.Series(depth, index=dgraph.index)\n",
    "    return depth, send_to_r, send_to_l, depth0\n"
   ]
  },
  {
   "cell_type": "markdown",
   "metadata": {},
   "source": [
    "# Random Sequence"
   ]
  },
  {
   "cell_type": "code",
   "execution_count": 7,
   "metadata": {},
   "outputs": [
    {
     "name": "stderr",
     "output_type": "stream",
     "text": [
      "0it [00:00, ?it/s]<ipython-input-6-168fc7a9bc61>:50: RuntimeWarning: invalid value encountered in true_divide\n",
      "  proportions_r = np.nan_to_num(send_to_l / total_from_r)\n",
      "<ipython-input-6-168fc7a9bc61>:51: RuntimeWarning: invalid value encountered in true_divide\n",
      "  proportions_l = np.nan_to_num(send_to_r / total_from_l)\n",
      "657it [00:01, 538.55it/s, change=0.000995]"
     ]
    },
    {
     "name": "stdout",
     "output_type": "stream",
     "text": [
      "CONVERGED\n"
     ]
    }
   ],
   "source": [
    "# Simulate sequence\n",
    "np.random.seed(1)\n",
    "sequence = simulate_sequence(int(1e2))\n",
    "\n",
    "seed = build_seed_from_one_sequence(sequence, 5)\n",
    "\n",
    "# Simulate depth\n",
    "depth_fn = lambda kmer: np.exp(np.random.randn() * 2)\n",
    "observed_depth = build_depth_from_seed(seed, depth_fn)\n",
    "\n",
    "\n",
    "depth, send_to_r, send_to_l, depth0 = run_message_passing(seed, observed_depth)\n",
    "depth_table = pd.DataFrame(dict(old_depth=depth0, new_depth=depth))"
   ]
  },
  {
   "cell_type": "code",
   "execution_count": 8,
   "metadata": {},
   "outputs": [
    {
     "name": "stderr",
     "output_type": "stream",
     "text": [
      "657it [00:01, 525.86it/s, change=0.000995]\n"
     ]
    },
    {
     "data": {
      "image/png": "[encoded data removed]",
      "text/plain": [
       "<Figure size 432x288 with 1 Axes>"
      ]
     },
     "metadata": {
      "needs_background": "light"
     },
     "output_type": "display_data"
    }
   ],
   "source": [
    "bins = np.linspace(0, 200)\n",
    "plt.hist(depth_table, bins=bins, alpha=0.5, histtype='stepfilled')\n",
    "# plt.hist(depth, bins=bins, alpha=0.7)\n",
    "None"
   ]
  },
  {
   "cell_type": "markdown",
   "metadata": {},
   "source": [
    "# Tall saw-horse"
   ]
  },
  {
   "cell_type": "code",
   "execution_count": 9,
   "metadata": {},
   "outputs": [
    {
     "name": "stderr",
     "output_type": "stream",
     "text": [
      "0it [00:00, ?it/s]<ipython-input-6-168fc7a9bc61>:50: RuntimeWarning: invalid value encountered in true_divide\n",
      "  proportions_r = np.nan_to_num(send_to_l / total_from_r)\n",
      "<ipython-input-6-168fc7a9bc61>:51: RuntimeWarning: invalid value encountered in true_divide\n",
      "  proportions_l = np.nan_to_num(send_to_r / total_from_l)\n",
      "10it [00:00, 769.77it/s, change=0.000651] \n"
     ]
    },
    {
     "name": "stdout",
     "output_type": "stream",
     "text": [
      "CONVERGED\n"
     ]
    },
    {
     "data": {
      "text/html": [
       "<div>\n",
       "<style scoped>\n",
       "    .dataframe tbody tr th:only-of-type {\n",
       "        vertical-align: middle;\n",
       "    }\n",
       "\n",
       "    .dataframe tbody tr th {\n",
       "        vertical-align: top;\n",
       "    }\n",
       "\n",
       "    .dataframe thead th {\n",
       "        text-align: right;\n",
       "    }\n",
       "</style>\n",
       "<table border=\"1\" class=\"dataframe\">\n",
       "  <thead>\n",
       "    <tr style=\"text-align: right;\">\n",
       "      <th></th>\n",
       "      <th>old_depth</th>\n",
       "      <th>new_depth</th>\n",
       "    </tr>\n",
       "  </thead>\n",
       "  <tbody>\n",
       "    <tr>\n",
       "      <th>AACCG</th>\n",
       "      <td>9.0</td>\n",
       "      <td>10.442252</td>\n",
       "    </tr>\n",
       "    <tr>\n",
       "      <th>CGGTT</th>\n",
       "      <td>9.0</td>\n",
       "      <td>10.442252</td>\n",
       "    </tr>\n",
       "    <tr>\n",
       "      <th>ACCGG</th>\n",
       "      <td>10.0</td>\n",
       "      <td>13.397265</td>\n",
       "    </tr>\n",
       "    <tr>\n",
       "      <th>CCGGT</th>\n",
       "      <td>10.0</td>\n",
       "      <td>13.397265</td>\n",
       "    </tr>\n",
       "    <tr>\n",
       "      <th>CCGGG</th>\n",
       "      <td>9.0</td>\n",
       "      <td>10.442252</td>\n",
       "    </tr>\n",
       "    <tr>\n",
       "      <th>CCCGG</th>\n",
       "      <td>9.0</td>\n",
       "      <td>10.442252</td>\n",
       "    </tr>\n",
       "    <tr>\n",
       "      <th>CCGGA</th>\n",
       "      <td>1.0</td>\n",
       "      <td>1.160250</td>\n",
       "    </tr>\n",
       "    <tr>\n",
       "      <th>TCCGG</th>\n",
       "      <td>1.0</td>\n",
       "      <td>1.160250</td>\n",
       "    </tr>\n",
       "    <tr>\n",
       "      <th>TACCG</th>\n",
       "      <td>1.0</td>\n",
       "      <td>1.160250</td>\n",
       "    </tr>\n",
       "    <tr>\n",
       "      <th>CGGTA</th>\n",
       "      <td>1.0</td>\n",
       "      <td>1.160250</td>\n",
       "    </tr>\n",
       "    <tr>\n",
       "      <th>TAACC</th>\n",
       "      <td>9.0</td>\n",
       "      <td>6.028978</td>\n",
       "    </tr>\n",
       "    <tr>\n",
       "      <th>GGTTA</th>\n",
       "      <td>9.0</td>\n",
       "      <td>6.028978</td>\n",
       "    </tr>\n",
       "    <tr>\n",
       "      <th>TTACC</th>\n",
       "      <td>1.0</td>\n",
       "      <td>0.669886</td>\n",
       "    </tr>\n",
       "    <tr>\n",
       "      <th>GGTAA</th>\n",
       "      <td>1.0</td>\n",
       "      <td>0.669886</td>\n",
       "    </tr>\n",
       "    <tr>\n",
       "      <th>CGGGT</th>\n",
       "      <td>9.0</td>\n",
       "      <td>6.028978</td>\n",
       "    </tr>\n",
       "    <tr>\n",
       "      <th>ACCCG</th>\n",
       "      <td>9.0</td>\n",
       "      <td>6.028978</td>\n",
       "    </tr>\n",
       "    <tr>\n",
       "      <th>CGGAT</th>\n",
       "      <td>1.0</td>\n",
       "      <td>0.669886</td>\n",
       "    </tr>\n",
       "    <tr>\n",
       "      <th>ATCCG</th>\n",
       "      <td>1.0</td>\n",
       "      <td>0.669886</td>\n",
       "    </tr>\n",
       "  </tbody>\n",
       "</table>\n",
       "</div>"
      ],
      "text/plain": [
       "       old_depth  new_depth\n",
       "AACCG        9.0  10.442252\n",
       "CGGTT        9.0  10.442252\n",
       "ACCGG       10.0  13.397265\n",
       "CCGGT       10.0  13.397265\n",
       "CCGGG        9.0  10.442252\n",
       "CCCGG        9.0  10.442252\n",
       "CCGGA        1.0   1.160250\n",
       "TCCGG        1.0   1.160250\n",
       "TACCG        1.0   1.160250\n",
       "CGGTA        1.0   1.160250\n",
       "TAACC        9.0   6.028978\n",
       "GGTTA        9.0   6.028978\n",
       "TTACC        1.0   0.669886\n",
       "GGTAA        1.0   0.669886\n",
       "CGGGT        9.0   6.028978\n",
       "ACCCG        9.0   6.028978\n",
       "CGGAT        1.0   0.669886\n",
       "ATCCG        1.0   0.669886"
      ]
     },
     "execution_count": 9,
     "metadata": {},
     "output_type": "execute_result"
    },
    {
     "data": {
      "image/png": "[encoded data removed]",
      "text/plain": [
       "<Figure size 432x288 with 2 Axes>"
      ]
     },
     "metadata": {
      "needs_background": "light"
     },
     "output_type": "display_data"
    }
   ],
   "source": [
    "seed = {\n",
    "    'AACCG': ['ACCGG'],\n",
    "    'ACCGG': ['CCGGG', 'CCGGA'],\n",
    "    'TACCG': ['ACCGG'],\n",
    "    'TAACC': ['AACCG'],\n",
    "    'TTACC': ['TACCG'],\n",
    "    'CCGGG': ['CGGGT'],\n",
    "    'CCGGA': ['CGGAT'],\n",
    "}\n",
    "observed_depth = lib.assembly_graph.add_reverse_complement_depth({\n",
    "    'AACCG': 9,\n",
    "    'ACCGG': 10,\n",
    "    'CCGGG': 9,\n",
    "    'CCGGA': 1,\n",
    "    'TACCG': 1,\n",
    "    'TAACC': 9,\n",
    "    'TTACC': 1,\n",
    "    'CGGGT': 9,\n",
    "    'CGGAT': 1,\n",
    "})\n",
    "\n",
    "depth, send_to_r, send_to_l, depth0 = run_message_passing(seed, observed_depth)\n",
    "sns.heatmap(send_to_r + send_to_l)\n",
    "pd.DataFrame(dict(old_depth=depth0, new_depth=depth))"
   ]
  },
  {
   "cell_type": "code",
   "execution_count": 10,
   "metadata": {},
   "outputs": [
    {
     "name": "stderr",
     "output_type": "stream",
     "text": [
      "0it [00:00, ?it/s]<ipython-input-6-168fc7a9bc61>:50: RuntimeWarning: invalid value encountered in true_divide\n",
      "  proportions_r = np.nan_to_num(send_to_l / total_from_r)\n",
      "<ipython-input-6-168fc7a9bc61>:51: RuntimeWarning: invalid value encountered in true_divide\n",
      "  proportions_l = np.nan_to_num(send_to_r / total_from_l)\n",
      "6it [00:00, 403.80it/s, change=0.000282]"
     ]
    },
    {
     "name": "stdout",
     "output_type": "stream",
     "text": [
      "CONVERGED\n"
     ]
    },
    {
     "name": "stderr",
     "output_type": "stream",
     "text": [
      "\n"
     ]
    },
    {
     "data": {
      "text/html": [
       "<div>\n",
       "<style scoped>\n",
       "    .dataframe tbody tr th:only-of-type {\n",
       "        vertical-align: middle;\n",
       "    }\n",
       "\n",
       "    .dataframe tbody tr th {\n",
       "        vertical-align: top;\n",
       "    }\n",
       "\n",
       "    .dataframe thead th {\n",
       "        text-align: right;\n",
       "    }\n",
       "</style>\n",
       "<table border=\"1\" class=\"dataframe\">\n",
       "  <thead>\n",
       "    <tr style=\"text-align: right;\">\n",
       "      <th></th>\n",
       "      <th>old_depth</th>\n",
       "      <th>new_depth</th>\n",
       "    </tr>\n",
       "  </thead>\n",
       "  <tbody>\n",
       "    <tr>\n",
       "      <th>AACCG</th>\n",
       "      <td>3.0</td>\n",
       "      <td>2.636049</td>\n",
       "    </tr>\n",
       "    <tr>\n",
       "      <th>CGGTT</th>\n",
       "      <td>3.0</td>\n",
       "      <td>2.636049</td>\n",
       "    </tr>\n",
       "    <tr>\n",
       "      <th>ACCGG</th>\n",
       "      <td>4.0</td>\n",
       "      <td>4.970537</td>\n",
       "    </tr>\n",
       "    <tr>\n",
       "      <th>CCGGT</th>\n",
       "      <td>4.0</td>\n",
       "      <td>4.970537</td>\n",
       "    </tr>\n",
       "    <tr>\n",
       "      <th>CCGGG</th>\n",
       "      <td>3.0</td>\n",
       "      <td>2.636049</td>\n",
       "    </tr>\n",
       "    <tr>\n",
       "      <th>CCCGG</th>\n",
       "      <td>3.0</td>\n",
       "      <td>2.636049</td>\n",
       "    </tr>\n",
       "    <tr>\n",
       "      <th>CCGGA</th>\n",
       "      <td>1.0</td>\n",
       "      <td>0.878683</td>\n",
       "    </tr>\n",
       "    <tr>\n",
       "      <th>TCCGG</th>\n",
       "      <td>1.0</td>\n",
       "      <td>0.878683</td>\n",
       "    </tr>\n",
       "    <tr>\n",
       "      <th>TACCG</th>\n",
       "      <td>1.0</td>\n",
       "      <td>0.878683</td>\n",
       "    </tr>\n",
       "    <tr>\n",
       "      <th>CGGTA</th>\n",
       "      <td>1.0</td>\n",
       "      <td>0.878683</td>\n",
       "    </tr>\n",
       "  </tbody>\n",
       "</table>\n",
       "</div>"
      ],
      "text/plain": [
       "       old_depth  new_depth\n",
       "AACCG        3.0   2.636049\n",
       "CGGTT        3.0   2.636049\n",
       "ACCGG        4.0   4.970537\n",
       "CCGGT        4.0   4.970537\n",
       "CCGGG        3.0   2.636049\n",
       "CCCGG        3.0   2.636049\n",
       "CCGGA        1.0   0.878683\n",
       "TCCGG        1.0   0.878683\n",
       "TACCG        1.0   0.878683\n",
       "CGGTA        1.0   0.878683"
      ]
     },
     "execution_count": 10,
     "metadata": {},
     "output_type": "execute_result"
    },
    {
     "data": {
      "image/png": "[encoded data removed]",
      "text/plain": [
       "<Figure size 432x288 with 2 Axes>"
      ]
     },
     "metadata": {
      "needs_background": "light"
     },
     "output_type": "display_data"
    }
   ],
   "source": [
    "seed = {\n",
    "    'AACCG': ['ACCGG'],\n",
    "    'ACCGG': ['CCGGG', 'CCGGA'],\n",
    "    'TACCG': ['ACCGG'],\n",
    "}\n",
    "observed_depth = lib.assembly_graph.add_reverse_complement_depth({\n",
    "    'AACCG': 3,\n",
    "    'ACCGG': 4,\n",
    "    'CCGGG': 3,\n",
    "    'CCGGA': 1,\n",
    "    'TACCG': 1,\n",
    "})\n",
    "\n",
    "depth, send_to_r, send_to_l, depth0 = run_message_passing(seed, observed_depth)\n",
    "sns.heatmap(send_to_r + send_to_l)\n",
    "pd.DataFrame(dict(old_depth=depth0, new_depth=depth))"
   ]
  },
  {
   "cell_type": "markdown",
   "metadata": {},
   "source": [
    "# Saw-horse"
   ]
  },
  {
   "cell_type": "markdown",
   "metadata": {},
   "source": [
    "# Cycle w/ Switch-back"
   ]
  },
  {
   "cell_type": "code",
   "execution_count": 11,
   "metadata": {},
   "outputs": [
    {
     "name": "stderr",
     "output_type": "stream",
     "text": [
      "20it [00:00, 894.42it/s, change=0.000853] "
     ]
    },
    {
     "name": "stdout",
     "output_type": "stream",
     "text": [
      "CONVERGED\n"
     ]
    },
    {
     "name": "stderr",
     "output_type": "stream",
     "text": [
      "\n"
     ]
    },
    {
     "data": {
      "text/html": [
       "<div>\n",
       "<style scoped>\n",
       "    .dataframe tbody tr th:only-of-type {\n",
       "        vertical-align: middle;\n",
       "    }\n",
       "\n",
       "    .dataframe tbody tr th {\n",
       "        vertical-align: top;\n",
       "    }\n",
       "\n",
       "    .dataframe thead th {\n",
       "        text-align: right;\n",
       "    }\n",
       "</style>\n",
       "<table border=\"1\" class=\"dataframe\">\n",
       "  <thead>\n",
       "    <tr style=\"text-align: right;\">\n",
       "      <th></th>\n",
       "      <th>old_depth</th>\n",
       "      <th>new_depth</th>\n",
       "    </tr>\n",
       "  </thead>\n",
       "  <tbody>\n",
       "    <tr>\n",
       "      <th>ACCCG</th>\n",
       "      <td>1.0</td>\n",
       "      <td>0.857638</td>\n",
       "    </tr>\n",
       "    <tr>\n",
       "      <th>CGGGT</th>\n",
       "      <td>1.0</td>\n",
       "      <td>0.857638</td>\n",
       "    </tr>\n",
       "    <tr>\n",
       "      <th>CCCGG</th>\n",
       "      <td>1.0</td>\n",
       "      <td>0.857938</td>\n",
       "    </tr>\n",
       "    <tr>\n",
       "      <th>CCGGG</th>\n",
       "      <td>1.0</td>\n",
       "      <td>0.857938</td>\n",
       "    </tr>\n",
       "    <tr>\n",
       "      <th>CCGGT</th>\n",
       "      <td>1.0</td>\n",
       "      <td>0.857638</td>\n",
       "    </tr>\n",
       "    <tr>\n",
       "      <th>ACCGG</th>\n",
       "      <td>1.0</td>\n",
       "      <td>0.857638</td>\n",
       "    </tr>\n",
       "    <tr>\n",
       "      <th>CGGTA</th>\n",
       "      <td>1.0</td>\n",
       "      <td>0.856966</td>\n",
       "    </tr>\n",
       "    <tr>\n",
       "      <th>TACCG</th>\n",
       "      <td>1.0</td>\n",
       "      <td>0.856966</td>\n",
       "    </tr>\n",
       "    <tr>\n",
       "      <th>GGTAC</th>\n",
       "      <td>1.0</td>\n",
       "      <td>1.712854</td>\n",
       "    </tr>\n",
       "    <tr>\n",
       "      <th>GTACC</th>\n",
       "      <td>1.0</td>\n",
       "      <td>1.712854</td>\n",
       "    </tr>\n",
       "    <tr>\n",
       "      <th>TACCC</th>\n",
       "      <td>1.0</td>\n",
       "      <td>0.856966</td>\n",
       "    </tr>\n",
       "    <tr>\n",
       "      <th>GGGTA</th>\n",
       "      <td>1.0</td>\n",
       "      <td>0.856966</td>\n",
       "    </tr>\n",
       "  </tbody>\n",
       "</table>\n",
       "</div>"
      ],
      "text/plain": [
       "       old_depth  new_depth\n",
       "ACCCG        1.0   0.857638\n",
       "CGGGT        1.0   0.857638\n",
       "CCCGG        1.0   0.857938\n",
       "CCGGG        1.0   0.857938\n",
       "CCGGT        1.0   0.857638\n",
       "ACCGG        1.0   0.857638\n",
       "CGGTA        1.0   0.856966\n",
       "TACCG        1.0   0.856966\n",
       "GGTAC        1.0   1.712854\n",
       "GTACC        1.0   1.712854\n",
       "TACCC        1.0   0.856966\n",
       "GGGTA        1.0   0.856966"
      ]
     },
     "execution_count": 11,
     "metadata": {},
     "output_type": "execute_result"
    },
    {
     "data": {
      "image/png": "[encoded data removed]",
      "text/plain": [
       "<Figure size 432x288 with 2 Axes>"
      ]
     },
     "metadata": {
      "needs_background": "light"
     },
     "output_type": "display_data"
    }
   ],
   "source": [
    "seed = {\n",
    "    'ACCCG': ['CCCGG'],\n",
    "    'CCCGG': ['CCGGT'],\n",
    "    'CCGGT': ['CGGTA'],\n",
    "    'CGGTA': ['GGTAC'],\n",
    "    'GGTAC': ['GTACC'],\n",
    "    'GTACC': ['TACCC'],\n",
    "    'TACCC': ['ACCCG'],\n",
    "}\n",
    "observed_depth = lib.assembly_graph.add_reverse_complement_depth({\n",
    "    'ACCCG': 1,\n",
    "    'CCCGG': 1,\n",
    "    'CCGGT': 1,\n",
    "    'CGGTA': 1,\n",
    "    'GGTAC': 1,\n",
    "    'GTACC': 1,\n",
    "    'TACCC': 1,\n",
    "})\n",
    "\n",
    "depth, send_to_r, send_to_l, depth0 = run_message_passing(seed, observed_depth)\n",
    "sns.heatmap(send_to_r + send_to_l)\n",
    "pd.DataFrame(dict(old_depth=depth0, new_depth=depth))"
   ]
  },
  {
   "cell_type": "markdown",
   "metadata": {},
   "source": [
    "# Six-Cycle"
   ]
  },
  {
   "cell_type": "code",
   "execution_count": 12,
   "metadata": {},
   "outputs": [
    {
     "name": "stderr",
     "output_type": "stream",
     "text": [
      "15it [00:00, 203.08it/s, change=0.000932] \n"
     ]
    },
    {
     "name": "stdout",
     "output_type": "stream",
     "text": [
      "CONVERGED\n"
     ]
    },
    {
     "data": {
      "text/html": [
       "<div>\n",
       "<style scoped>\n",
       "    .dataframe tbody tr th:only-of-type {\n",
       "        vertical-align: middle;\n",
       "    }\n",
       "\n",
       "    .dataframe tbody tr th {\n",
       "        vertical-align: top;\n",
       "    }\n",
       "\n",
       "    .dataframe thead th {\n",
       "        text-align: right;\n",
       "    }\n",
       "</style>\n",
       "<table border=\"1\" class=\"dataframe\">\n",
       "  <thead>\n",
       "    <tr style=\"text-align: right;\">\n",
       "      <th></th>\n",
       "      <th>old_depth</th>\n",
       "      <th>new_depth</th>\n",
       "    </tr>\n",
       "  </thead>\n",
       "  <tbody>\n",
       "    <tr>\n",
       "      <th>ACCCG</th>\n",
       "      <td>1.0</td>\n",
       "      <td>1.166286</td>\n",
       "    </tr>\n",
       "    <tr>\n",
       "      <th>CGGGT</th>\n",
       "      <td>1.0</td>\n",
       "      <td>1.166286</td>\n",
       "    </tr>\n",
       "    <tr>\n",
       "      <th>CCCGG</th>\n",
       "      <td>1.0</td>\n",
       "      <td>1.167047</td>\n",
       "    </tr>\n",
       "    <tr>\n",
       "      <th>CCGGG</th>\n",
       "      <td>1.0</td>\n",
       "      <td>1.167047</td>\n",
       "    </tr>\n",
       "    <tr>\n",
       "      <th>CCGGA</th>\n",
       "      <td>2.0</td>\n",
       "      <td>1.167428</td>\n",
       "    </tr>\n",
       "    <tr>\n",
       "      <th>TCCGG</th>\n",
       "      <td>2.0</td>\n",
       "      <td>1.167428</td>\n",
       "    </tr>\n",
       "    <tr>\n",
       "      <th>CGGAC</th>\n",
       "      <td>1.0</td>\n",
       "      <td>1.167047</td>\n",
       "    </tr>\n",
       "    <tr>\n",
       "      <th>GTCCG</th>\n",
       "      <td>1.0</td>\n",
       "      <td>1.167047</td>\n",
       "    </tr>\n",
       "    <tr>\n",
       "      <th>GGACC</th>\n",
       "      <td>1.0</td>\n",
       "      <td>1.166286</td>\n",
       "    </tr>\n",
       "    <tr>\n",
       "      <th>GGTCC</th>\n",
       "      <td>1.0</td>\n",
       "      <td>1.166286</td>\n",
       "    </tr>\n",
       "    <tr>\n",
       "      <th>GACCC</th>\n",
       "      <td>1.0</td>\n",
       "      <td>1.165905</td>\n",
       "    </tr>\n",
       "    <tr>\n",
       "      <th>GGGTC</th>\n",
       "      <td>1.0</td>\n",
       "      <td>1.165905</td>\n",
       "    </tr>\n",
       "  </tbody>\n",
       "</table>\n",
       "</div>"
      ],
      "text/plain": [
       "       old_depth  new_depth\n",
       "ACCCG        1.0   1.166286\n",
       "CGGGT        1.0   1.166286\n",
       "CCCGG        1.0   1.167047\n",
       "CCGGG        1.0   1.167047\n",
       "CCGGA        2.0   1.167428\n",
       "TCCGG        2.0   1.167428\n",
       "CGGAC        1.0   1.167047\n",
       "GTCCG        1.0   1.167047\n",
       "GGACC        1.0   1.166286\n",
       "GGTCC        1.0   1.166286\n",
       "GACCC        1.0   1.165905\n",
       "GGGTC        1.0   1.165905"
      ]
     },
     "execution_count": 12,
     "metadata": {},
     "output_type": "execute_result"
    },
    {
     "data": {
      "image/png": "[encoded data removed]",
      "text/plain": [
       "<Figure size 432x288 with 2 Axes>"
      ]
     },
     "metadata": {
      "needs_background": "light"
     },
     "output_type": "display_data"
    }
   ],
   "source": [
    "seed = {\n",
    "    'ACCCG': ['CCCGG'],\n",
    "    'CCCGG': ['CCGGA'],\n",
    "    'CCGGA': ['CGGAC'],\n",
    "    'CGGAC': ['GGACC'],\n",
    "    'GGACC': ['GACCC'],\n",
    "    'GACCC': ['ACCCG']\n",
    "}\n",
    "observed_depth = lib.assembly_graph.add_reverse_complement_depth({\n",
    "    'ACCCG': 1,\n",
    "    'CCCGG': 1,\n",
    "    'CCGGA': 2,\n",
    "    'CGGAC': 1,\n",
    "    'GGACC': 1,\n",
    "    'GACCC': 1,\n",
    "})\n",
    "\n",
    "depth, send_to_r, send_to_l, depth0 = run_message_passing(seed, observed_depth)\n",
    "sns.heatmap(send_to_r + send_to_l)\n",
    "pd.DataFrame(dict(old_depth=depth0, new_depth=depth))"
   ]
  },
  {
   "cell_type": "markdown",
   "metadata": {},
   "source": [
    "# Six-cycle w/ Spur"
   ]
  },
  {
   "cell_type": "code",
   "execution_count": 13,
   "metadata": {},
   "outputs": [
    {
     "name": "stderr",
     "output_type": "stream",
     "text": [
      "0it [00:00, ?it/s]<ipython-input-6-168fc7a9bc61>:50: RuntimeWarning: invalid value encountered in true_divide\n",
      "  proportions_r = np.nan_to_num(send_to_l / total_from_r)\n",
      "<ipython-input-6-168fc7a9bc61>:51: RuntimeWarning: invalid value encountered in true_divide\n",
      "  proportions_l = np.nan_to_num(send_to_r / total_from_l)\n",
      "26it [00:00, 745.65it/s, change=0.000901]"
     ]
    },
    {
     "name": "stdout",
     "output_type": "stream",
     "text": [
      "CONVERGED\n"
     ]
    },
    {
     "name": "stderr",
     "output_type": "stream",
     "text": [
      "\n"
     ]
    },
    {
     "data": {
      "text/html": [
       "<div>\n",
       "<style scoped>\n",
       "    .dataframe tbody tr th:only-of-type {\n",
       "        vertical-align: middle;\n",
       "    }\n",
       "\n",
       "    .dataframe tbody tr th {\n",
       "        vertical-align: top;\n",
       "    }\n",
       "\n",
       "    .dataframe thead th {\n",
       "        text-align: right;\n",
       "    }\n",
       "</style>\n",
       "<table border=\"1\" class=\"dataframe\">\n",
       "  <thead>\n",
       "    <tr style=\"text-align: right;\">\n",
       "      <th></th>\n",
       "      <th>old_depth</th>\n",
       "      <th>new_depth</th>\n",
       "    </tr>\n",
       "  </thead>\n",
       "  <tbody>\n",
       "    <tr>\n",
       "      <th>ACCCG</th>\n",
       "      <td>1.0</td>\n",
       "      <td>1.167494</td>\n",
       "    </tr>\n",
       "    <tr>\n",
       "      <th>CGGGT</th>\n",
       "      <td>1.0</td>\n",
       "      <td>1.167494</td>\n",
       "    </tr>\n",
       "    <tr>\n",
       "      <th>CCCGG</th>\n",
       "      <td>1.0</td>\n",
       "      <td>1.167147</td>\n",
       "    </tr>\n",
       "    <tr>\n",
       "      <th>CCGGG</th>\n",
       "      <td>1.0</td>\n",
       "      <td>1.167147</td>\n",
       "    </tr>\n",
       "    <tr>\n",
       "      <th>CCGGA</th>\n",
       "      <td>1.0</td>\n",
       "      <td>1.165465</td>\n",
       "    </tr>\n",
       "    <tr>\n",
       "      <th>TCCGG</th>\n",
       "      <td>1.0</td>\n",
       "      <td>1.165465</td>\n",
       "    </tr>\n",
       "    <tr>\n",
       "      <th>CGGAC</th>\n",
       "      <td>1.0</td>\n",
       "      <td>1.165591</td>\n",
       "    </tr>\n",
       "    <tr>\n",
       "      <th>GTCCG</th>\n",
       "      <td>1.0</td>\n",
       "      <td>1.165591</td>\n",
       "    </tr>\n",
       "    <tr>\n",
       "      <th>GGACC</th>\n",
       "      <td>1.0</td>\n",
       "      <td>1.166311</td>\n",
       "    </tr>\n",
       "    <tr>\n",
       "      <th>GGTCC</th>\n",
       "      <td>1.0</td>\n",
       "      <td>1.166311</td>\n",
       "    </tr>\n",
       "    <tr>\n",
       "      <th>GACCC</th>\n",
       "      <td>1.0</td>\n",
       "      <td>1.167132</td>\n",
       "    </tr>\n",
       "    <tr>\n",
       "      <th>GGGTC</th>\n",
       "      <td>1.0</td>\n",
       "      <td>1.167132</td>\n",
       "    </tr>\n",
       "    <tr>\n",
       "      <th>CCGGC</th>\n",
       "      <td>1.0</td>\n",
       "      <td>0.000861</td>\n",
       "    </tr>\n",
       "    <tr>\n",
       "      <th>GCCGG</th>\n",
       "      <td>1.0</td>\n",
       "      <td>0.000861</td>\n",
       "    </tr>\n",
       "  </tbody>\n",
       "</table>\n",
       "</div>"
      ],
      "text/plain": [
       "       old_depth  new_depth\n",
       "ACCCG        1.0   1.167494\n",
       "CGGGT        1.0   1.167494\n",
       "CCCGG        1.0   1.167147\n",
       "CCGGG        1.0   1.167147\n",
       "CCGGA        1.0   1.165465\n",
       "TCCGG        1.0   1.165465\n",
       "CGGAC        1.0   1.165591\n",
       "GTCCG        1.0   1.165591\n",
       "GGACC        1.0   1.166311\n",
       "GGTCC        1.0   1.166311\n",
       "GACCC        1.0   1.167132\n",
       "GGGTC        1.0   1.167132\n",
       "CCGGC        1.0   0.000861\n",
       "GCCGG        1.0   0.000861"
      ]
     },
     "execution_count": 13,
     "metadata": {},
     "output_type": "execute_result"
    },
    {
     "data": {
      "image/png": "[encoded data removed]",
      "text/plain": [
       "<Figure size 432x288 with 2 Axes>"
      ]
     },
     "metadata": {
      "needs_background": "light"
     },
     "output_type": "display_data"
    }
   ],
   "source": [
    "seed = {\n",
    "    'ACCCG': ['CCCGG'],\n",
    "    'CCCGG': ['CCGGA', 'CCGGC'],\n",
    "    'CCGGA': ['CGGAC'],\n",
    "    'CGGAC': ['GGACC'],\n",
    "    'GGACC': ['GACCC'],\n",
    "    'GACCC': ['ACCCG']\n",
    "}\n",
    "observed_depth = lib.assembly_graph.add_reverse_complement_depth({\n",
    "    'ACCCG': 1,\n",
    "    'CCCGG': 1,\n",
    "    'CCGGA': 1,\n",
    "    'CGGAC': 1,\n",
    "    'GGACC': 1,\n",
    "    'GACCC': 1,\n",
    "    'CCGGC': 1,\n",
    "})\n",
    "\n",
    "depth, send_to_r, send_to_l, depth0 = run_message_passing(seed, observed_depth)\n",
    "sns.heatmap(send_to_r + send_to_l)\n",
    "pd.DataFrame(dict(old_depth=depth0, new_depth=depth))"
   ]
  },
  {
   "cell_type": "markdown",
   "metadata": {},
   "source": [
    "# Double-six-cycle"
   ]
  },
  {
   "cell_type": "code",
   "execution_count": 14,
   "metadata": {},
   "outputs": [
    {
     "name": "stderr",
     "output_type": "stream",
     "text": [
      "1it [00:00, 233.97it/s, change=0] "
     ]
    },
    {
     "name": "stdout",
     "output_type": "stream",
     "text": [
      "CONVERGED\n"
     ]
    },
    {
     "name": "stderr",
     "output_type": "stream",
     "text": [
      "\n"
     ]
    },
    {
     "data": {
      "text/html": [
       "<div>\n",
       "<style scoped>\n",
       "    .dataframe tbody tr th:only-of-type {\n",
       "        vertical-align: middle;\n",
       "    }\n",
       "\n",
       "    .dataframe tbody tr th {\n",
       "        vertical-align: top;\n",
       "    }\n",
       "\n",
       "    .dataframe thead th {\n",
       "        text-align: right;\n",
       "    }\n",
       "</style>\n",
       "<table border=\"1\" class=\"dataframe\">\n",
       "  <thead>\n",
       "    <tr style=\"text-align: right;\">\n",
       "      <th></th>\n",
       "      <th>old_depth</th>\n",
       "      <th>new_depth</th>\n",
       "    </tr>\n",
       "  </thead>\n",
       "  <tbody>\n",
       "    <tr>\n",
       "      <th>GGACC</th>\n",
       "      <td>1.0</td>\n",
       "      <td>1.0</td>\n",
       "    </tr>\n",
       "    <tr>\n",
       "      <th>GGTCC</th>\n",
       "      <td>1.0</td>\n",
       "      <td>1.0</td>\n",
       "    </tr>\n",
       "    <tr>\n",
       "      <th>GACCC</th>\n",
       "      <td>1.0</td>\n",
       "      <td>1.0</td>\n",
       "    </tr>\n",
       "    <tr>\n",
       "      <th>GGGTC</th>\n",
       "      <td>1.0</td>\n",
       "      <td>1.0</td>\n",
       "    </tr>\n",
       "    <tr>\n",
       "      <th>ACCCG</th>\n",
       "      <td>1.0</td>\n",
       "      <td>1.0</td>\n",
       "    </tr>\n",
       "    <tr>\n",
       "      <th>CGGGT</th>\n",
       "      <td>1.0</td>\n",
       "      <td>1.0</td>\n",
       "    </tr>\n",
       "    <tr>\n",
       "      <th>CCCGG</th>\n",
       "      <td>1.0</td>\n",
       "      <td>1.0</td>\n",
       "    </tr>\n",
       "    <tr>\n",
       "      <th>CCGGG</th>\n",
       "      <td>1.0</td>\n",
       "      <td>1.0</td>\n",
       "    </tr>\n",
       "    <tr>\n",
       "      <th>CCGGA</th>\n",
       "      <td>1.0</td>\n",
       "      <td>1.0</td>\n",
       "    </tr>\n",
       "    <tr>\n",
       "      <th>TCCGG</th>\n",
       "      <td>1.0</td>\n",
       "      <td>1.0</td>\n",
       "    </tr>\n",
       "    <tr>\n",
       "      <th>CGGAC</th>\n",
       "      <td>3.0</td>\n",
       "      <td>3.0</td>\n",
       "    </tr>\n",
       "    <tr>\n",
       "      <th>GTCCG</th>\n",
       "      <td>3.0</td>\n",
       "      <td>3.0</td>\n",
       "    </tr>\n",
       "    <tr>\n",
       "      <th>GGACT</th>\n",
       "      <td>2.0</td>\n",
       "      <td>2.0</td>\n",
       "    </tr>\n",
       "    <tr>\n",
       "      <th>AGTCC</th>\n",
       "      <td>2.0</td>\n",
       "      <td>2.0</td>\n",
       "    </tr>\n",
       "    <tr>\n",
       "      <th>GACTC</th>\n",
       "      <td>2.0</td>\n",
       "      <td>2.0</td>\n",
       "    </tr>\n",
       "    <tr>\n",
       "      <th>GAGTC</th>\n",
       "      <td>2.0</td>\n",
       "      <td>2.0</td>\n",
       "    </tr>\n",
       "    <tr>\n",
       "      <th>ACTCG</th>\n",
       "      <td>2.0</td>\n",
       "      <td>2.0</td>\n",
       "    </tr>\n",
       "    <tr>\n",
       "      <th>CGAGT</th>\n",
       "      <td>2.0</td>\n",
       "      <td>2.0</td>\n",
       "    </tr>\n",
       "    <tr>\n",
       "      <th>CTCGG</th>\n",
       "      <td>2.0</td>\n",
       "      <td>2.0</td>\n",
       "    </tr>\n",
       "    <tr>\n",
       "      <th>CCGAG</th>\n",
       "      <td>2.0</td>\n",
       "      <td>2.0</td>\n",
       "    </tr>\n",
       "    <tr>\n",
       "      <th>TCGGA</th>\n",
       "      <td>2.0</td>\n",
       "      <td>2.0</td>\n",
       "    </tr>\n",
       "    <tr>\n",
       "      <th>TCCGA</th>\n",
       "      <td>2.0</td>\n",
       "      <td>2.0</td>\n",
       "    </tr>\n",
       "  </tbody>\n",
       "</table>\n",
       "</div>"
      ],
      "text/plain": [
       "       old_depth  new_depth\n",
       "GGACC        1.0        1.0\n",
       "GGTCC        1.0        1.0\n",
       "GACCC        1.0        1.0\n",
       "GGGTC        1.0        1.0\n",
       "ACCCG        1.0        1.0\n",
       "CGGGT        1.0        1.0\n",
       "CCCGG        1.0        1.0\n",
       "CCGGG        1.0        1.0\n",
       "CCGGA        1.0        1.0\n",
       "TCCGG        1.0        1.0\n",
       "CGGAC        3.0        3.0\n",
       "GTCCG        3.0        3.0\n",
       "GGACT        2.0        2.0\n",
       "AGTCC        2.0        2.0\n",
       "GACTC        2.0        2.0\n",
       "GAGTC        2.0        2.0\n",
       "ACTCG        2.0        2.0\n",
       "CGAGT        2.0        2.0\n",
       "CTCGG        2.0        2.0\n",
       "CCGAG        2.0        2.0\n",
       "TCGGA        2.0        2.0\n",
       "TCCGA        2.0        2.0"
      ]
     },
     "execution_count": 14,
     "metadata": {},
     "output_type": "execute_result"
    },
    {
     "data": {
      "image/png": "[encoded data removed]",
      "text/plain": [
       "<Figure size 432x288 with 2 Axes>"
      ]
     },
     "metadata": {
      "needs_background": "light"
     },
     "output_type": "display_data"
    }
   ],
   "source": [
    "seed = {\n",
    "    # Top cycle\n",
    "    'GGACC': ['GACCC'],\n",
    "    'GACCC': ['ACCCG'],\n",
    "    'ACCCG': ['CCCGG'],\n",
    "    'CCCGG': ['CCGGA'],\n",
    "    'CCGGA': ['CGGAC'],\n",
    "    \n",
    "    # Link\n",
    "    'CGGAC': ['GGACC', 'GGACT'],\n",
    "    \n",
    "    # Bottom cycle\n",
    "    'GGACT': ['GACTC'],\n",
    "    'GACTC': ['ACTCG'],\n",
    "    'ACTCG': ['CTCGG'],\n",
    "    'CTCGG': ['TCGGA'],\n",
    "    'TCGGA': ['CGGAC'],\n",
    "    \n",
    "}\n",
    "observed_depth = lib.assembly_graph.add_reverse_complement_depth({\n",
    "    # Top cycle\n",
    "    'GGACC': 1,\n",
    "    'GACCC': 1,\n",
    "    'ACCCG': 1,\n",
    "    'CCCGG': 1,\n",
    "    'CCGGA': 1,\n",
    "    \n",
    "    # Link\n",
    "    'CGGAC': 3,\n",
    "    \n",
    "    # Bottom \n",
    "    'GGACT': 2, \n",
    "    'GACTC': 2,\n",
    "    'ACTCG': 2,\n",
    "    'CTCGG': 2,\n",
    "    'TCGGA': 2,\n",
    "})\n",
    "\n",
    "depth, send_to_r, send_to_l, depth0 = run_message_passing(seed, observed_depth)\n",
    "sns.heatmap(send_to_r + send_to_l)\n",
    "pd.DataFrame(dict(old_depth=depth0, new_depth=depth))"
   ]
  },
  {
   "cell_type": "markdown",
   "metadata": {},
   "source": [
    "# Lonely-stick"
   ]
  },
  {
   "cell_type": "code",
   "execution_count": 15,
   "metadata": {},
   "outputs": [
    {
     "name": "stderr",
     "output_type": "stream",
     "text": [
      "0it [00:00, ?it/s]<ipython-input-6-168fc7a9bc61>:50: RuntimeWarning: invalid value encountered in true_divide\n",
      "  proportions_r = np.nan_to_num(send_to_l / total_from_r)\n",
      "<ipython-input-6-168fc7a9bc61>:51: RuntimeWarning: invalid value encountered in true_divide\n",
      "  proportions_l = np.nan_to_num(send_to_r / total_from_l)\n",
      "2it [00:00, 249.81it/s, change=0] "
     ]
    },
    {
     "name": "stdout",
     "output_type": "stream",
     "text": [
      "CONVERGED\n"
     ]
    },
    {
     "name": "stderr",
     "output_type": "stream",
     "text": [
      "\n"
     ]
    },
    {
     "data": {
      "text/html": [
       "<div>\n",
       "<style scoped>\n",
       "    .dataframe tbody tr th:only-of-type {\n",
       "        vertical-align: middle;\n",
       "    }\n",
       "\n",
       "    .dataframe tbody tr th {\n",
       "        vertical-align: top;\n",
       "    }\n",
       "\n",
       "    .dataframe thead th {\n",
       "        text-align: right;\n",
       "    }\n",
       "</style>\n",
       "<table border=\"1\" class=\"dataframe\">\n",
       "  <thead>\n",
       "    <tr style=\"text-align: right;\">\n",
       "      <th></th>\n",
       "      <th>old_depth</th>\n",
       "      <th>new_depth</th>\n",
       "    </tr>\n",
       "  </thead>\n",
       "  <tbody>\n",
       "    <tr>\n",
       "      <th>GGACC</th>\n",
       "      <td>1.0</td>\n",
       "      <td>1.5</td>\n",
       "    </tr>\n",
       "    <tr>\n",
       "      <th>GGTCC</th>\n",
       "      <td>1.0</td>\n",
       "      <td>1.5</td>\n",
       "    </tr>\n",
       "    <tr>\n",
       "      <th>GACCT</th>\n",
       "      <td>2.0</td>\n",
       "      <td>1.5</td>\n",
       "    </tr>\n",
       "    <tr>\n",
       "      <th>AGGTC</th>\n",
       "      <td>2.0</td>\n",
       "      <td>1.5</td>\n",
       "    </tr>\n",
       "  </tbody>\n",
       "</table>\n",
       "</div>"
      ],
      "text/plain": [
       "       old_depth  new_depth\n",
       "GGACC        1.0        1.5\n",
       "GGTCC        1.0        1.5\n",
       "GACCT        2.0        1.5\n",
       "AGGTC        2.0        1.5"
      ]
     },
     "execution_count": 15,
     "metadata": {},
     "output_type": "execute_result"
    },
    {
     "data": {
      "image/png": "[encoded data removed]",
      "text/plain": [
       "<Figure size 432x288 with 2 Axes>"
      ]
     },
     "metadata": {
      "needs_background": "light"
     },
     "output_type": "display_data"
    }
   ],
   "source": [
    "seed = {\n",
    "    # Top cycle\n",
    "    'GGACC': ['GACCT'],\n",
    "}\n",
    "observed_depth = lib.assembly_graph.add_reverse_complement_depth({\n",
    "    # Top cycle\n",
    "    'GGACC': 1,\n",
    "    'GACCT': 2,\n",
    "})\n",
    "\n",
    "depth, send_to_r, send_to_l, depth0 = run_message_passing(seed, observed_depth)\n",
    "sns.heatmap(send_to_r + send_to_l)\n",
    "pd.DataFrame(dict(old_depth=depth0, new_depth=depth))"
   ]
  }
 ],
 "metadata": {
  "kernelspec": {
   "display_name": "Python 3",
   "language": "python",
   "name": "python3"
  },
  "language_info": {
   "codemirror_mode": {
    "name": "ipython",
    "version": 3
   },
   "file_extension": ".py",
   "mimetype": "text/x-python",
   "name": "python",
   "nbconvert_exporter": "python",
   "pygments_lexer": "ipython3",
   "version": "3.8.6"
  }
 },
 "nbformat": 4,
 "nbformat_minor": 4
}
