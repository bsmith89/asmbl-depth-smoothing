{
 "cells": [
  {
   "cell_type": "code",
   "execution_count": 2,
   "metadata": {},
   "outputs": [],
   "source": [
    "%load_ext autoreload\n",
    "%autoreload 2"
   ]
  },
  {
   "cell_type": "code",
   "execution_count": 3,
   "metadata": {},
   "outputs": [],
   "source": [
    "import lib.assembly_graph\n",
    "import lib.plot\n",
    "import matplotlib.pyplot as plt\n",
    "import pandas as pd\n",
    "import numpy as np\n",
    "import seaborn as sns\n",
    "import scipy as sp"
   ]
  },
  {
   "cell_type": "code",
   "execution_count": 4,
   "metadata": {},
   "outputs": [],
   "source": [
    "def build_from_seed(seed, depth):\n",
    "    right, left = lib.assembly_graph.build_full_from_seed_graph(seed)\n",
    "    depth = pd.Series(lib.assembly_graph.add_reverse_complement_depth(depth)).astype(float)\n",
    "    assert (depth.index.isin(right.keys()) | depth.index.isin(left.keys())).all()\n",
    "    dgraph = pd.DataFrame(np.zeros((len(depth), len(depth))), index=depth.index, columns=depth.index)\n",
    "    for unitig in depth.index:\n",
    "        dgraph.loc[unitig, right[unitig]] = 1\n",
    "    return dgraph, depth"
   ]
  },
  {
   "cell_type": "code",
   "execution_count": 5,
   "metadata": {},
   "outputs": [],
   "source": [
    "def initialize_messages(dgraph, depth):\n",
    "    # Step -1\n",
    "    send_to_r = dgraph\n",
    "    send_to_l = dgraph.T\n",
    "    total_from_l = send_to_r.sum()\n",
    "    total_from_r = send_to_l.sum()\n",
    "    send_to_r_next = (send_to_l / total_from_r).multiply(depth, axis=1).T\n",
    "    send_to_l_next = (send_to_r / total_from_l).multiply(depth, axis=1).T\n",
    "    send_to_r = send_to_r_next.fillna(0)\n",
    "    send_to_l = send_to_l_next.fillna(0)\n",
    "\n",
    "    # Step 0\n",
    "    total_from_l = send_to_r.sum()\n",
    "    total_from_r = send_to_l.sum()\n",
    "    send_to_r_next = (send_to_l / total_from_r).multiply(depth, axis=1).T\n",
    "    send_to_l_next = (send_to_r / total_from_l).multiply(depth, axis=1).T\n",
    "    send_to_r = send_to_r_next.fillna(0)\n",
    "    send_to_l = send_to_l_next.fillna(0)\n",
    "\n",
    "    return send_to_r, send_to_l"
   ]
  },
  {
   "cell_type": "code",
   "execution_count": 6,
   "metadata": {},
   "outputs": [],
   "source": [
    "def iterate_messages(send_to_r, send_to_l, depth, gamma=1.0):\n",
    "    total_from_l = send_to_r.sum()\n",
    "    total_from_r = send_to_l.sum()\n",
    "    # Update depth\n",
    "    next_depth = (total_from_r + total_from_l + (gamma * depth)) / (2 + gamma)\n",
    "    # Scale the depth so there's no overall loss.\n",
    "    depth = next_depth * (depth.sum() / next_depth.sum())\n",
    "    # Calculate next message\n",
    "    send_to_r_next = (send_to_l / total_from_r).multiply(depth, axis=1).T\n",
    "    send_to_l_next = (send_to_r / total_from_l).multiply(depth, axis=1).T\n",
    "    send_to_r = send_to_r_next.fillna(0)\n",
    "    send_to_l = send_to_l_next.fillna(0)\n",
    "    return send_to_r, send_to_l, depth"
   ]
  },
  {
   "cell_type": "markdown",
   "metadata": {},
   "source": [
    "# Tall saw-horse"
   ]
  },
  {
   "cell_type": "code",
   "execution_count": 24,
   "metadata": {},
   "outputs": [
    {
     "name": "stdout",
     "output_type": "stream",
     "text": [
      "Converged on iteration 14\n"
     ]
    },
    {
     "data": {
      "text/plain": [
       "AACCG    10.442286\n",
       "CGGTT    10.442286\n",
       "ACCGG    13.397458\n",
       "CCGGT    13.397458\n",
       "CCGGG    10.442286\n",
       "CCCGG    10.442286\n",
       "CCGGA     1.160254\n",
       "TCCGG     1.160254\n",
       "TACCG     1.160254\n",
       "CGGTA     1.160254\n",
       "TAACC     6.028858\n",
       "GGTTA     6.028858\n",
       "TTACC     0.669873\n",
       "GGTAA     0.669873\n",
       "CGGGT     6.028858\n",
       "ACCCG     6.028858\n",
       "CGGAT     0.669873\n",
       "ATCCG     0.669873\n",
       "dtype: float64"
      ]
     },
     "execution_count": 24,
     "metadata": {},
     "output_type": "execute_result"
    },
    {
     "data": {
      "image/png": "[encoded data removed]",
      "text/plain": [
       "<Figure size 432x288 with 2 Axes>"
      ]
     },
     "metadata": {
      "needs_background": "light"
     },
     "output_type": "display_data"
    }
   ],
   "source": [
    "seed = {\n",
    "    'AACCG': ['ACCGG'],\n",
    "    'ACCGG': ['CCGGG', 'CCGGA'],\n",
    "    'TACCG': ['ACCGG'],\n",
    "    'TAACC': ['AACCG'],\n",
    "    'TTACC': ['TACCG'],\n",
    "    'CCGGG': ['CGGGT'],\n",
    "    'CCGGA': ['CGGAT'],\n",
    "}\n",
    "observed_depth = lib.assembly_graph.add_reverse_complement_depth({\n",
    "    'AACCG': 9,\n",
    "    'ACCGG': 10,\n",
    "    'CCGGG': 9,\n",
    "    'CCGGA': 1,\n",
    "    'TACCG': 1,\n",
    "    'TAACC': 9,\n",
    "    'TTACC': 1,\n",
    "    'CGGGT': 9,\n",
    "    'CGGAT': 1,\n",
    "})\n",
    "dgraph, depth0 = build_from_seed(seed, observed_depth)\n",
    "send_to_r, send_to_l = initialize_messages(dgraph, depth0)\n",
    "\n",
    "depth = depth0\n",
    "thresh = 1e-5\n",
    "i = 0\n",
    "while True:\n",
    "    send_to_r, send_to_l, new_depth = iterate_messages(send_to_r, send_to_l, depth)\n",
    "    delta = new_depth - depth\n",
    "    change = np.sqrt(np.sum(np.square(new_depth - depth)))\n",
    "    depth = new_depth\n",
    "    if change < thresh:\n",
    "        print(f\"Converged on iteration {i}\")\n",
    "        break\n",
    "    i += 1\n",
    "    \n",
    "sns.heatmap(send_to_r + send_to_l)\n",
    "depth"
   ]
  },
  {
   "cell_type": "code",
   "execution_count": 26,
   "metadata": {},
   "outputs": [
    {
     "name": "stdout",
     "output_type": "stream",
     "text": [
      "Converged on iteration 7\n"
     ]
    },
    {
     "data": {
      "text/plain": [
       "AACCG    2.636039\n",
       "CGGTT    2.636039\n",
       "ACCGG    4.970562\n",
       "CCGGT    4.970562\n",
       "CCGGG    2.636039\n",
       "CCCGG    2.636039\n",
       "CCGGA    0.878680\n",
       "TCCGG    0.878680\n",
       "TACCG    0.878680\n",
       "CGGTA    0.878680\n",
       "dtype: float64"
      ]
     },
     "execution_count": 26,
     "metadata": {},
     "output_type": "execute_result"
    },
    {
     "data": {
      "image/png": "[encoded data removed]",
      "text/plain": [
       "<Figure size 432x288 with 2 Axes>"
      ]
     },
     "metadata": {
      "needs_background": "light"
     },
     "output_type": "display_data"
    }
   ],
   "source": [
    "seed = {\n",
    "    'AACCG': ['ACCGG'],\n",
    "    'ACCGG': ['CCGGG', 'CCGGA'],\n",
    "    'TACCG': ['ACCGG'],\n",
    "}\n",
    "observed_depth = lib.assembly_graph.add_reverse_complement_depth({\n",
    "    'AACCG': 3,\n",
    "    'ACCGG': 4,\n",
    "    'CCGGG': 3,\n",
    "    'CCGGA': 1,\n",
    "    'TACCG': 1,\n",
    "})\n",
    "dgraph, depth0 = build_from_seed(seed, observed_depth)\n",
    "send_to_r, send_to_l = initialize_messages(dgraph, depth0)\n",
    "\n",
    "depth = depth0\n",
    "thresh = 1e-5\n",
    "i = 0\n",
    "while True:\n",
    "    send_to_r, send_to_l, new_depth = iterate_messages(send_to_r, send_to_l, depth)\n",
    "    delta = new_depth - depth\n",
    "    change = np.sqrt(np.sum(np.square(new_depth - depth)))\n",
    "    depth = new_depth\n",
    "    if change < thresh:\n",
    "        print(f\"Converged on iteration {i}\")\n",
    "        break\n",
    "    i += 1\n",
    "    \n",
    "sns.heatmap(send_to_r + send_to_l)\n",
    "depth"
   ]
  },
  {
   "cell_type": "markdown",
   "metadata": {},
   "source": [
    "# Saw-horse"
   ]
  },
  {
   "cell_type": "markdown",
   "metadata": {},
   "source": [
    "# Cycle w/ Switch-back"
   ]
  },
  {
   "cell_type": "code",
   "execution_count": 9,
   "metadata": {},
   "outputs": [
    {
     "name": "stdout",
     "output_type": "stream",
     "text": [
      "Converged on iteration 35\n"
     ]
    },
    {
     "data": {
      "text/plain": [
       "ACCCG    0.857148\n",
       "CGGGT    0.857148\n",
       "CCCGG    0.857151\n",
       "CCGGG    0.857151\n",
       "CCGGT    0.857148\n",
       "ACCGG    0.857148\n",
       "CGGTA    0.857141\n",
       "TACCG    0.857141\n",
       "GGTAC    1.714272\n",
       "GTACC    1.714272\n",
       "TACCC    0.857141\n",
       "GGGTA    0.857141\n",
       "dtype: float64"
      ]
     },
     "execution_count": 9,
     "metadata": {},
     "output_type": "execute_result"
    }
   ],
   "source": [
    "seed = {\n",
    "    'ACCCG': ['CCCGG'],\n",
    "    'CCCGG': ['CCGGT'],\n",
    "    'CCGGT': ['CGGTA'],\n",
    "    'CGGTA': ['GGTAC'],\n",
    "    'GGTAC': ['GTACC'],\n",
    "    'GTACC': ['TACCC'],\n",
    "    'TACCC': ['ACCCG'],\n",
    "}\n",
    "observed_depth = lib.assembly_graph.add_reverse_complement_depth({\n",
    "    'ACCCG': 1,\n",
    "    'CCCGG': 1,\n",
    "    'CCGGT': 1,\n",
    "    'CGGTA': 1,\n",
    "    'GGTAC': 1,\n",
    "    'GTACC': 1,\n",
    "    'TACCC': 1,\n",
    "})\n",
    "dgraph, depth0 = build_from_seed(seed, observed_depth)\n",
    "send_to_r, send_to_l = initialize_messages(dgraph, depth0)\n",
    "\n",
    "depth = depth0\n",
    "thresh = 1e-5\n",
    "i = 0\n",
    "while True:\n",
    "    send_to_r, send_to_l, new_depth = iterate_messages(send_to_r, send_to_l, depth)\n",
    "    delta = new_depth - depth\n",
    "    change = np.sqrt(np.sum(np.square(new_depth - depth)))\n",
    "    depth = new_depth\n",
    "    if change < thresh:\n",
    "        print(f\"Converged on iteration {i}\")\n",
    "        break\n",
    "    i += 1\n",
    "    \n",
    "sns.heatmap(send_to_r + send_to_l)\n",
    "depth"
   ]
  },
  {
   "cell_type": "markdown",
   "metadata": {},
   "source": [
    "# Six-Cycle"
   ]
  },
  {
   "cell_type": "code",
   "execution_count": 30,
   "metadata": {},
   "outputs": [
    {
     "name": "stdout",
     "output_type": "stream",
     "text": [
      "Converged on iteration 26\n"
     ]
    },
    {
     "data": {
      "text/plain": [
       "ACCCG    1.166664\n",
       "CGGGT    1.166664\n",
       "CCCGG    1.166670\n",
       "CCGGG    1.166670\n",
       "CCGGA    1.166673\n",
       "TCCGG    1.166673\n",
       "CGGAC    1.166670\n",
       "GTCCG    1.166670\n",
       "GGACC    1.166664\n",
       "GGTCC    1.166664\n",
       "GACCC    1.166661\n",
       "GGGTC    1.166661\n",
       "dtype: float64"
      ]
     },
     "execution_count": 30,
     "metadata": {},
     "output_type": "execute_result"
    },
    {
     "data": {
      "image/png": "[encoded data removed]",
      "text/plain": [
       "<Figure size 432x288 with 2 Axes>"
      ]
     },
     "metadata": {
      "needs_background": "light"
     },
     "output_type": "display_data"
    }
   ],
   "source": [
    "seed = {\n",
    "    'ACCCG': ['CCCGG'],\n",
    "    'CCCGG': ['CCGGA'],\n",
    "    'CCGGA': ['CGGAC'],\n",
    "    'CGGAC': ['GGACC'],\n",
    "    'GGACC': ['GACCC'],\n",
    "    'GACCC': ['ACCCG']\n",
    "}\n",
    "observed_depth = lib.assembly_graph.add_reverse_complement_depth({\n",
    "    'ACCCG': 1,\n",
    "    'CCCGG': 1,\n",
    "    'CCGGA': 2,\n",
    "    'CGGAC': 1,\n",
    "    'GGACC': 1,\n",
    "    'GACCC': 1,\n",
    "})\n",
    "dgraph, depth0 = build_from_seed(seed, observed_depth)\n",
    "send_to_r, send_to_l = initialize_messages(dgraph, depth0)\n",
    "\n",
    "depth = depth0\n",
    "thresh = 1e-5\n",
    "i = 0\n",
    "while True:\n",
    "    send_to_r, send_to_l, new_depth = iterate_messages(send_to_r, send_to_l, depth)\n",
    "    delta = new_depth - depth\n",
    "    change = np.sqrt(np.sum(np.square(new_depth - depth)))\n",
    "    depth = new_depth\n",
    "    if change < thresh:\n",
    "        print(f\"Converged on iteration {i}\")\n",
    "        break\n",
    "    i += 1\n",
    "    \n",
    "sns.heatmap(send_to_r + send_to_l)\n",
    "depth"
   ]
  },
  {
   "cell_type": "markdown",
   "metadata": {},
   "source": [
    "# Six-cycle w/ Spur"
   ]
  },
  {
   "cell_type": "code",
   "execution_count": 39,
   "metadata": {},
   "outputs": [
    {
     "name": "stdout",
     "output_type": "stream",
     "text": [
      "CPU times: user 2 µs, sys: 0 ns, total: 2 µs\n",
      "Wall time: 4.29 µs\n",
      "Converged on iteration 43\n"
     ]
    },
    {
     "data": {
      "text/plain": [
       "ACCCG    1.166674\n",
       "CGGGT    1.166674\n",
       "CCCGG    1.166671\n",
       "CCGGG    1.166671\n",
       "CCGGA    1.166656\n",
       "TCCGG    1.166656\n",
       "CGGAC    1.166657\n",
       "GTCCG    1.166657\n",
       "GGACC    1.166664\n",
       "GGTCC    1.166664\n",
       "GACCC    1.166671\n",
       "GGGTC    1.166671\n",
       "CCGGC    0.000007\n",
       "GCCGG    0.000007\n",
       "dtype: float64"
      ]
     },
     "execution_count": 39,
     "metadata": {},
     "output_type": "execute_result"
    },
    {
     "data": {
      "image/png": "[encoded data removed]",
      "text/plain": [
       "<Figure size 432x288 with 2 Axes>"
      ]
     },
     "metadata": {
      "needs_background": "light"
     },
     "output_type": "display_data"
    }
   ],
   "source": [
    "seed = {\n",
    "    'ACCCG': ['CCCGG'],\n",
    "    'CCCGG': ['CCGGA', 'CCGGC'],\n",
    "    'CCGGA': ['CGGAC'],\n",
    "    'CGGAC': ['GGACC'],\n",
    "    'GGACC': ['GACCC'],\n",
    "    'GACCC': ['ACCCG']\n",
    "}\n",
    "observed_depth = lib.assembly_graph.add_reverse_complement_depth({\n",
    "    'ACCCG': 1,\n",
    "    'CCCGG': 1,\n",
    "    'CCGGA': 1,\n",
    "    'CGGAC': 1,\n",
    "    'GGACC': 1,\n",
    "    'GACCC': 1,\n",
    "    'CCGGC': 1,\n",
    "})\n",
    "dgraph, depth0 = build_from_seed(seed, observed_depth)\n",
    "send_to_r, send_to_l = initialize_messages(dgraph, depth0)\n",
    "\n",
    "depth = depth0\n",
    "thresh = 1e-5\n",
    "i = 0\n",
    "while True:\n",
    "    send_to_r, send_to_l, new_depth = iterate_messages(send_to_r, send_to_l, depth)\n",
    "    delta = new_depth - depth\n",
    "    change = np.sqrt(np.sum(np.square(new_depth - depth)))\n",
    "    depth = new_depth\n",
    "    if change < thresh:\n",
    "        print(f\"Converged on iteration {i}\")\n",
    "        break\n",
    "    i += 1\n",
    "    \n",
    "sns.heatmap(send_to_r + send_to_l)\n",
    "depth"
   ]
  },
  {
   "cell_type": "markdown",
   "metadata": {},
   "source": [
    "# Double-six-cycle"
   ]
  },
  {
   "cell_type": "code",
   "execution_count": 28,
   "metadata": {},
   "outputs": [
    {
     "name": "stdout",
     "output_type": "stream",
     "text": [
      "Converged on iteration 0\n"
     ]
    },
    {
     "data": {
      "text/plain": [
       "GGACC    1.0\n",
       "GGTCC    1.0\n",
       "GACCC    1.0\n",
       "GGGTC    1.0\n",
       "ACCCG    1.0\n",
       "CGGGT    1.0\n",
       "CCCGG    1.0\n",
       "CCGGG    1.0\n",
       "CCGGA    1.0\n",
       "TCCGG    1.0\n",
       "CGGAC    3.0\n",
       "GTCCG    3.0\n",
       "GGACT    2.0\n",
       "AGTCC    2.0\n",
       "GACTC    2.0\n",
       "GAGTC    2.0\n",
       "ACTCG    2.0\n",
       "CGAGT    2.0\n",
       "CTCGG    2.0\n",
       "CCGAG    2.0\n",
       "TCGGA    2.0\n",
       "TCCGA    2.0\n",
       "dtype: float64"
      ]
     },
     "execution_count": 28,
     "metadata": {},
     "output_type": "execute_result"
    },
    {
     "data": {
      "image/png": "[encoded data removed]",
      "text/plain": [
       "<Figure size 432x288 with 2 Axes>"
      ]
     },
     "metadata": {
      "needs_background": "light"
     },
     "output_type": "display_data"
    }
   ],
   "source": [
    "seed = {\n",
    "    # Top cycle\n",
    "    'GGACC': ['GACCC'],\n",
    "    'GACCC': ['ACCCG'],\n",
    "    'ACCCG': ['CCCGG'],\n",
    "    'CCCGG': ['CCGGA'],\n",
    "    'CCGGA': ['CGGAC'],\n",
    "    \n",
    "    # Link\n",
    "    'CGGAC': ['GGACC', 'GGACT'],\n",
    "    \n",
    "    # Bottom cycle\n",
    "    'GGACT': ['GACTC'],\n",
    "    'GACTC': ['ACTCG'],\n",
    "    'ACTCG': ['CTCGG'],\n",
    "    'CTCGG': ['TCGGA'],\n",
    "    'TCGGA': ['CGGAC'],\n",
    "    \n",
    "}\n",
    "observed_depth = lib.assembly_graph.add_reverse_complement_depth({\n",
    "    # Top cycle\n",
    "    'GGACC': 1,\n",
    "    'GACCC': 1,\n",
    "    'ACCCG': 1,\n",
    "    'CCCGG': 1,\n",
    "    'CCGGA': 1,\n",
    "    \n",
    "    # Link\n",
    "    'CGGAC': 3,\n",
    "    \n",
    "    # Bottom \n",
    "    'GGACT': 2, \n",
    "    'GACTC': 2,\n",
    "    'ACTCG': 2,\n",
    "    'CTCGG': 2,\n",
    "    'TCGGA': 2,\n",
    "})\n",
    "dgraph, depth0 = build_from_seed(seed, observed_depth)\n",
    "send_to_r, send_to_l = initialize_messages(dgraph, depth0)\n",
    "\n",
    "depth = depth0\n",
    "thresh = 1e-5\n",
    "i = 0\n",
    "while True:\n",
    "    send_to_r, send_to_l, new_depth = iterate_messages(send_to_r, send_to_l, depth)\n",
    "    delta = new_depth - depth\n",
    "    change = np.sqrt(np.sum(np.square(new_depth - depth)))\n",
    "    depth = new_depth\n",
    "    if change < thresh:\n",
    "        print(f\"Converged on iteration {i}\")\n",
    "        break\n",
    "    i += 1\n",
    "    \n",
    "sns.heatmap(send_to_r + send_to_l)\n",
    "depth"
   ]
  },
  {
   "cell_type": "markdown",
   "metadata": {},
   "source": [
    "# Lonely-stick"
   ]
  },
  {
   "cell_type": "code",
   "execution_count": 29,
   "metadata": {},
   "outputs": [
    {
     "name": "stdout",
     "output_type": "stream",
     "text": [
      "Converged on iteration 1\n"
     ]
    },
    {
     "data": {
      "text/plain": [
       "GGACC    1.5\n",
       "GGTCC    1.5\n",
       "GACCT    1.5\n",
       "AGGTC    1.5\n",
       "dtype: float64"
      ]
     },
     "execution_count": 29,
     "metadata": {},
     "output_type": "execute_result"
    },
    {
     "data": {
      "image/png": "[encoded data removed]",
      "text/plain": [
       "<Figure size 432x288 with 2 Axes>"
      ]
     },
     "metadata": {
      "needs_background": "light"
     },
     "output_type": "display_data"
    }
   ],
   "source": [
    "seed = {\n",
    "    # Top cycle\n",
    "    'GGACC': ['GACCT'],\n",
    "}\n",
    "observed_depth = lib.assembly_graph.add_reverse_complement_depth({\n",
    "    # Top cycle\n",
    "    'GGACC': 1,\n",
    "    'GACCT': 2,\n",
    "})\n",
    "dgraph, depth0 = build_from_seed(seed, observed_depth)\n",
    "send_to_r, send_to_l = initialize_messages(dgraph, depth0)\n",
    "\n",
    "depth = depth0\n",
    "thresh = 1e-5\n",
    "i = 0\n",
    "while True:\n",
    "    send_to_r, send_to_l, new_depth = iterate_messages(send_to_r, send_to_l, depth)\n",
    "    delta = new_depth - depth\n",
    "    change = np.sqrt(np.sum(np.square(new_depth - depth)))\n",
    "    depth = new_depth\n",
    "    if change < thresh:\n",
    "        print(f\"Converged on iteration {i}\")\n",
    "        break\n",
    "    i += 1\n",
    "    \n",
    "sns.heatmap(send_to_r + send_to_l)\n",
    "depth"
   ]
  }
 ],
 "metadata": {
  "kernelspec": {
   "display_name": "Python 3",
   "language": "python",
   "name": "python3"
  },
  "language_info": {
   "codemirror_mode": {
    "name": "ipython",
    "version": 3
   },
   "file_extension": ".py",
   "mimetype": "text/x-python",
   "name": "python",
   "nbconvert_exporter": "python",
   "pygments_lexer": "ipython3",
   "version": "3.8.6"
  }
 },
 "nbformat": 4,
 "nbformat_minor": 4
}
