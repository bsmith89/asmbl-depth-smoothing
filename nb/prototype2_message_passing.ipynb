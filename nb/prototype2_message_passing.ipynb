{
 "cells": [
  {
   "cell_type": "code",
   "execution_count": 1,
   "metadata": {},
   "outputs": [],
   "source": [
    "%load_ext autoreload\n",
    "%autoreload 2"
   ]
  },
  {
   "cell_type": "code",
   "execution_count": 90,
   "metadata": {},
   "outputs": [],
   "source": [
    "import lib.assembly_graph\n",
    "import lib.plot\n",
    "import matplotlib.pyplot as plt\n",
    "import pandas as pd\n",
    "import numpy as np\n",
    "import seaborn as sns\n",
    "import scipy as sp"
   ]
  },
  {
   "cell_type": "markdown",
   "metadata": {},
   "source": [
    "# Saw-horse"
   ]
  },
  {
   "cell_type": "code",
   "execution_count": 1898,
   "metadata": {},
   "outputs": [
    {
     "data": {
      "text/plain": [
       "(defaultdict(list,\n",
       "             {'ACCGG': ['AACCG', 'TACCG'],\n",
       "              'CGGTT': ['CCGGT'],\n",
       "              'CCGGG': ['ACCGG'],\n",
       "              'CCGGT': ['CCCGG', 'TCCGG'],\n",
       "              'CCGGA': ['ACCGG'],\n",
       "              'CGGTA': ['CCGGT']}),\n",
       " defaultdict(<function lib.assembly_graph.add_reverse_complement_depth.<locals>.<lambda>()>,\n",
       "             {'AACCG': 9,\n",
       "              'CGGTT': 9,\n",
       "              'ACCGG': 10,\n",
       "              'CCGGT': 10,\n",
       "              'CCGGG': 9,\n",
       "              'CCCGG': 9,\n",
       "              'CCGGA': 1,\n",
       "              'TCCGG': 1,\n",
       "              'TACCG': 1,\n",
       "              'CGGTA': 1}))"
      ]
     },
     "execution_count": 1898,
     "metadata": {},
     "output_type": "execute_result"
    }
   ],
   "source": [
    "seed = {\n",
    "    'AACCG': ['ACCGG'],\n",
    "    'ACCGG': ['CCGGG', 'CCGGA'],\n",
    "    'TACCG': ['ACCGG'],\n",
    "}\n",
    "downstream, upstream = lib.assembly_graph.build_full_from_seed_graph(seed)\n",
    "\n",
    "observed_depth = lib.assembly_graph.add_reverse_complement_depth({\n",
    "    'AACCG': 9,\n",
    "    'ACCGG': 10,\n",
    "    'CCGGG': 9,\n",
    "    'CCGGA': 1,\n",
    "    'TACCG': 1,\n",
    "})\n",
    "\n",
    "assert lib.assembly_graph.mapping_all_upstream(upstream)\n",
    "upstream, observed_depth"
   ]
  },
  {
   "cell_type": "code",
   "execution_count": 1899,
   "metadata": {},
   "outputs": [
    {
     "data": {
      "text/plain": [
       "AACCG     9.0\n",
       "CGGTT     9.0\n",
       "ACCGG    10.0\n",
       "CCGGT    10.0\n",
       "CCGGG     9.0\n",
       "CCCGG     9.0\n",
       "CCGGA     1.0\n",
       "TCCGG     1.0\n",
       "TACCG     1.0\n",
       "CGGTA     1.0\n",
       "dtype: float64"
      ]
     },
     "execution_count": 1899,
     "metadata": {},
     "output_type": "execute_result"
    }
   ],
   "source": [
    "depth0 = pd.Series(observed_depth).astype(float)\n",
    "n = len(depth0)\n",
    "depth0"
   ]
  },
  {
   "cell_type": "code",
   "execution_count": 1900,
   "metadata": {},
   "outputs": [],
   "source": [
    "# \"Directed\" graph with each node pointing to nodes that are downstream.\n",
    "# If I want a graph of each node pointing upstream, that's just dgraph.T\n",
    "# After the *first* step, where I distribute each nodes depth equally upstream\n",
    "# and downstream, I'm going to need two contingency tables, because\n",
    "# uflow != dflow.T\n",
    "\n",
    "linked_5p_to_3p = downstream\n",
    "\n",
    "dgraph_5p_to_3p = pd.DataFrame(np.zeros((n, n)), index=depth0.index, columns=depth0.index)\n",
    "for k in dgraph_5p_to_3p:\n",
    "    dgraph_5p_to_3p.loc[k, linked_5p_to_3p[k]] = 1"
   ]
  },
  {
   "cell_type": "code",
   "execution_count": 1901,
   "metadata": {},
   "outputs": [
    {
     "data": {
      "text/plain": [
       "<AxesSubplot:>"
      ]
     },
     "execution_count": 1901,
     "metadata": {},
     "output_type": "execute_result"
    },
    {
     "data": {
      "image/png": "[encoded data removed]",
      "text/plain": [
       "<Figure size 432x288 with 2 Axes>"
      ]
     },
     "metadata": {
      "needs_background": "light"
     },
     "output_type": "display_data"
    }
   ],
   "source": [
    "l_contingency = dgraph_5p_to_3p.copy()\n",
    "r_contingency = dgraph_5p_to_3p.T.copy()\n",
    "\n",
    "sns.heatmap(l_contingency)"
   ]
  },
  {
   "cell_type": "code",
   "execution_count": 1902,
   "metadata": {},
   "outputs": [
    {
     "data": {
      "text/plain": [
       "<AxesSubplot:>"
      ]
     },
     "execution_count": 1902,
     "metadata": {},
     "output_type": "execute_result"
    },
    {
     "data": {
      "image/png": "[encoded data removed]",
      "text/plain": [
       "<Figure size 432x288 with 2 Axes>"
      ]
     },
     "metadata": {
      "needs_background": "light"
     },
     "output_type": "display_data"
    }
   ],
   "source": [
    "# Initialization\n",
    "\n",
    "send_to_r = r_contingency\n",
    "send_to_l = l_contingency\n",
    "\n",
    "# This is not actually the flow,\n",
    "# because it's not proportional to depth...yet.\n",
    "\n",
    "depth = depth0\n",
    "\n",
    "total_from_l = send_to_r.sum()\n",
    "total_from_r = send_to_l.sum()\n",
    "\n",
    "# When it's not initialization\n",
    "# we'll update depth here.\n",
    "\n",
    "send_to_r_next = (send_to_l / total_from_r).multiply(depth, axis=1).T\n",
    "send_to_l_next = (send_to_r / total_from_l).multiply(depth, axis=1).T\n",
    "\n",
    "# Initialization done\n",
    "send_to_r = send_to_r_next.fillna(0)\n",
    "send_to_l = send_to_l_next.fillna(0)\n",
    "\n",
    "sns.heatmap(send_to_r)\n",
    "\n",
    "# table = pd.DataFrame(dict(depth=depth, in_degree_r=total_from_r, in_degree_l=total_from_l, out_degree_r=send_to_r.sum(1), out_degree_l=send_to_l.sum(1)))\n",
    "# table"
   ]
  },
  {
   "cell_type": "code",
   "execution_count": 1949,
   "metadata": {},
   "outputs": [
    {
     "data": {
      "text/plain": [
       "AACCG     6.817487\n",
       "CGGTT     6.817487\n",
       "ACCGG    12.426407\n",
       "CCGGT    12.426407\n",
       "CCGGG     6.817487\n",
       "CCCGG     6.817487\n",
       "CCGGA     1.969310\n",
       "TCCGG     1.969310\n",
       "TACCG     1.969310\n",
       "CGGTA     1.969310\n",
       "dtype: float64"
      ]
     },
     "execution_count": 1949,
     "metadata": {},
     "output_type": "execute_result"
    }
   ],
   "source": [
    "# One Step\n",
    "total_from_l = send_to_r.sum()\n",
    "total_from_r = send_to_l.sum()\n",
    "\n",
    "# Graveyard of depths past.\n",
    "# depth = np.sqrt(np.mean((np.array([total_from_r, total_from_l, depth]) + 1)**2))  #  (depth0 * gamma + depth + total_from_r + total_from_l) / (3 + gamma)\n",
    "# next_depth = np.cbrt((total_from_r + pc) * (total_from_l + pc) * (depth + pc)) - pc\n",
    "# depth = (\n",
    "#     np.exp(\n",
    "#         (\n",
    "#             np.log(total_from_r + pc) +\n",
    "#             np.log(total_from_l + pc) +\n",
    "#             np.log(depth + pc)\n",
    "#         ) / (3 + pc)\n",
    "#     )\n",
    "# )\n",
    "\n",
    "# Update depth\n",
    "gamma = 1\n",
    "next_depth = (total_from_r + total_from_l + (gamma * depth)) / (2 + gamma)\n",
    "# Scale the depth so there's no overall loss.\n",
    "depth = next_depth * (depth.sum() / next_depth.sum())\n",
    "\n",
    "send_to_r_next = (send_to_l / total_from_r).multiply(depth, axis=1).T\n",
    "send_to_l_next = (send_to_r / total_from_l).multiply(depth, axis=1).T\n",
    "\n",
    "send_to_r = send_to_r_next.fillna(0)\n",
    "send_to_l = send_to_l_next.fillna(0)\n",
    "\n",
    "# Step done\n",
    "\n",
    "# sns.heatmap(send_to_r)\n",
    "# plt.plot(depth)\n",
    "# plt.ylim(0)\n",
    "depth\n",
    "\n",
    "# table = pd.DataFrame(dict(depth=depth, in_degree_r=total_from_r, in_degree_l=total_from_l, out_degree_r=send_to_r.sum(1), out_degree_l=send_to_l.sum(1)))\n",
    "# table"
   ]
  },
  {
   "cell_type": "markdown",
   "metadata": {},
   "source": [
    "# Cycle w/ Switch-back"
   ]
  },
  {
   "cell_type": "code",
   "execution_count": 1546,
   "metadata": {},
   "outputs": [
    {
     "data": {
      "text/plain": [
       "(defaultdict(list,\n",
       "             {'CCCGG': ['ACCCG'],\n",
       "              'CGGGT': ['CCGGG'],\n",
       "              'CCGGT': ['CCCGG'],\n",
       "              'CCGGG': ['ACCGG'],\n",
       "              'CGGTA': ['CCGGT'],\n",
       "              'ACCGG': ['TACCG'],\n",
       "              'GGTAC': ['CGGTA', 'GGGTA'],\n",
       "              'TACCG': ['GTACC'],\n",
       "              'GTACC': ['GGTAC', 'GGTAC'],\n",
       "              'TACCC': ['GTACC'],\n",
       "              'ACCCG': ['TACCC'],\n",
       "              'GGGTA': ['CGGGT']}),\n",
       " defaultdict(<function lib.assembly_graph.add_reverse_complement_depth.<locals>.<lambda>()>,\n",
       "             {'ACCCG': 1,\n",
       "              'CGGGT': 1,\n",
       "              'CCCGG': 1,\n",
       "              'CCGGG': 1,\n",
       "              'CCGGT': 1,\n",
       "              'ACCGG': 1,\n",
       "              'CGGTA': 1,\n",
       "              'TACCG': 1,\n",
       "              'GGTAC': 1,\n",
       "              'GTACC': 1,\n",
       "              'TACCC': 1,\n",
       "              'GGGTA': 1}))"
      ]
     },
     "execution_count": 1546,
     "metadata": {},
     "output_type": "execute_result"
    }
   ],
   "source": [
    "seed = {\n",
    "    'ACCCG': ['CCCGG'],\n",
    "    'CCCGG': ['CCGGT'],\n",
    "    'CCGGT': ['CGGTA'],\n",
    "    'CGGTA': ['GGTAC'],\n",
    "    'GGTAC': ['GTACC'],\n",
    "    'GTACC': ['TACCC'],\n",
    "    'TACCC': ['ACCCG'],\n",
    "}\n",
    "downstream, upstream = lib.assembly_graph.build_full_from_seed_graph(seed)\n",
    "\n",
    "observed_depth = lib.assembly_graph.add_reverse_complement_depth({\n",
    "    'ACCCG': 1,\n",
    "    'CCCGG': 1,\n",
    "    'CCGGT': 1,\n",
    "    'CGGTA': 1,\n",
    "    'GGTAC': 1,\n",
    "    'GTACC': 1,\n",
    "    'TACCC': 1,\n",
    "})\n",
    "\n",
    "assert lib.assembly_graph.mapping_all_upstream(upstream)\n",
    "upstream, observed_depth"
   ]
  },
  {
   "cell_type": "code",
   "execution_count": 1547,
   "metadata": {},
   "outputs": [
    {
     "data": {
      "text/plain": [
       "ACCCG    1.0\n",
       "CGGGT    1.0\n",
       "CCCGG    1.0\n",
       "CCGGG    1.0\n",
       "CCGGT    1.0\n",
       "ACCGG    1.0\n",
       "CGGTA    1.0\n",
       "TACCG    1.0\n",
       "GGTAC    1.0\n",
       "GTACC    1.0\n",
       "TACCC    1.0\n",
       "GGGTA    1.0\n",
       "dtype: float64"
      ]
     },
     "execution_count": 1547,
     "metadata": {},
     "output_type": "execute_result"
    }
   ],
   "source": [
    "depth0 = pd.Series(observed_depth).astype(float)\n",
    "n = len(depth0)\n",
    "depth0"
   ]
  },
  {
   "cell_type": "code",
   "execution_count": 1548,
   "metadata": {},
   "outputs": [],
   "source": [
    "# \"Directed\" graph with each node pointing to nodes that are downstream.\n",
    "# If I want a graph of each node pointing upstream, that's just dgraph.T\n",
    "# After the *first* step, where I distribute each nodes depth equally upstream\n",
    "# and downstream, I'm going to need two contingency tables, because\n",
    "# uflow != dflow.T\n",
    "\n",
    "linked_5p_to_3p = downstream\n",
    "\n",
    "dgraph_5p_to_3p = pd.DataFrame(np.zeros((n, n)), index=depth0.index, columns=depth0.index)\n",
    "for k in dgraph_5p_to_3p:\n",
    "    dgraph_5p_to_3p.loc[k, linked_5p_to_3p[k]] = 1"
   ]
  },
  {
   "cell_type": "code",
   "execution_count": 1549,
   "metadata": {},
   "outputs": [
    {
     "data": {
      "text/plain": [
       "<AxesSubplot:>"
      ]
     },
     "execution_count": 1549,
     "metadata": {},
     "output_type": "execute_result"
    },
    {
     "data": {
      "image/png": "[encoded data removed]",
      "text/plain": [
       "<Figure size 432x288 with 2 Axes>"
      ]
     },
     "metadata": {
      "needs_background": "light"
     },
     "output_type": "display_data"
    }
   ],
   "source": [
    "l_contingency = dgraph_5p_to_3p.copy()\n",
    "r_contingency = dgraph_5p_to_3p.T.copy()\n",
    "\n",
    "sns.heatmap(l_contingency)"
   ]
  },
  {
   "cell_type": "code",
   "execution_count": 1734,
   "metadata": {},
   "outputs": [
    {
     "data": {
      "text/plain": [
       "<AxesSubplot:>"
      ]
     },
     "execution_count": 1734,
     "metadata": {},
     "output_type": "execute_result"
    },
    {
     "data": {
      "image/png": "[encoded data removed]",
      "text/plain": [
       "<Figure size 432x288 with 2 Axes>"
      ]
     },
     "metadata": {
      "needs_background": "light"
     },
     "output_type": "display_data"
    }
   ],
   "source": [
    "# Initialization\n",
    "\n",
    "send_to_r = r_contingency\n",
    "send_to_l = l_contingency\n",
    "\n",
    "# This is not actually the flow,\n",
    "# because it's not proportional to depth...yet.\n",
    "\n",
    "depth = depth0\n",
    "\n",
    "total_from_l = send_to_r.sum()\n",
    "total_from_r = send_to_l.sum()\n",
    "\n",
    "# When it's not initialization\n",
    "# we'll update depth here.\n",
    "\n",
    "send_to_r_next = (send_to_l / total_from_r).multiply(depth, axis=1).T\n",
    "send_to_l_next = (send_to_r / total_from_l).multiply(depth, axis=1).T\n",
    "\n",
    "# Initialization done\n",
    "send_to_r = send_to_r_next.fillna(0)\n",
    "send_to_l = send_to_l_next.fillna(0)\n",
    "\n",
    "sns.heatmap(send_to_r)\n",
    "\n",
    "# table = pd.DataFrame(dict(depth=depth, in_degree_r=total_from_r, in_degree_l=total_from_l, out_degree_r=send_to_r.sum(1), out_degree_l=send_to_l.sum(1)))\n",
    "# table"
   ]
  },
  {
   "cell_type": "code",
   "execution_count": 1816,
   "metadata": {},
   "outputs": [
    {
     "data": {
      "text/plain": [
       "ACCCG    0.857647\n",
       "CGGGT    0.857647\n",
       "CCCGG    0.857952\n",
       "CCGGG    0.857952\n",
       "CCGGT    0.857647\n",
       "ACCGG    0.857647\n",
       "CGGTA    0.856963\n",
       "TACCG    0.856963\n",
       "GGTAC    1.712828\n",
       "GTACC    1.712828\n",
       "TACCC    0.856963\n",
       "GGGTA    0.856963\n",
       "dtype: float64"
      ]
     },
     "execution_count": 1816,
     "metadata": {},
     "output_type": "execute_result"
    }
   ],
   "source": [
    "# One Step\n",
    "total_from_l = send_to_r.sum()\n",
    "total_from_r = send_to_l.sum()\n",
    "\n",
    "# Graveyard of depths past.\n",
    "# depth = np.sqrt(np.mean((np.array([total_from_r, total_from_l, depth]) + 1)**2))  #  (depth0 * gamma + depth + total_from_r + total_from_l) / (3 + gamma)\n",
    "# next_depth = np.cbrt((total_from_r + pc) * (total_from_l + pc) * (depth + pc)) - pc\n",
    "# depth = (\n",
    "#     np.exp(\n",
    "#         (\n",
    "#             np.log(total_from_r + pc) +\n",
    "#             np.log(total_from_l + pc) +\n",
    "#             np.log(depth + pc)\n",
    "#         ) / (3 + pc)\n",
    "#     )\n",
    "# )\n",
    "\n",
    "# Update depth\n",
    "gamma = 1\n",
    "next_depth = (total_from_r + total_from_l + (gamma * depth)) / (2 + gamma)\n",
    "# Scale the depth so there's no overall loss.\n",
    "depth = next_depth * (depth.sum() / next_depth.sum())\n",
    "\n",
    "send_to_r_next = (send_to_l / total_from_r).multiply(depth, axis=1).T\n",
    "send_to_l_next = (send_to_r / total_from_l).multiply(depth, axis=1).T\n",
    "\n",
    "send_to_r = send_to_r_next.fillna(0)\n",
    "send_to_l = send_to_l_next.fillna(0)\n",
    "\n",
    "# Step done\n",
    "\n",
    "# sns.heatmap(send_to_r)\n",
    "# plt.plot(depth)\n",
    "# plt.ylim(0)\n",
    "depth\n",
    "\n",
    "# table = pd.DataFrame(dict(depth=depth, in_degree_r=total_from_r, in_degree_l=total_from_l, out_degree_r=send_to_r.sum(1), out_degree_l=send_to_l.sum(1)))\n",
    "# table"
   ]
  },
  {
   "cell_type": "markdown",
   "metadata": {},
   "source": [
    "# Tall saw-horse"
   ]
  },
  {
   "cell_type": "code",
   "execution_count": 1950,
   "metadata": {},
   "outputs": [
    {
     "data": {
      "text/plain": [
       "(defaultdict(list,\n",
       "             {'ACCGG': ['AACCG', 'TACCG'],\n",
       "              'CGGTT': ['CCGGT'],\n",
       "              'CCGGG': ['ACCGG'],\n",
       "              'CCGGT': ['CCCGG', 'TCCGG'],\n",
       "              'CCGGA': ['ACCGG'],\n",
       "              'CGGTA': ['CCGGT'],\n",
       "              'AACCG': ['TAACC'],\n",
       "              'GGTTA': ['CGGTT'],\n",
       "              'TACCG': ['TTACC'],\n",
       "              'GGTAA': ['CGGTA'],\n",
       "              'CGGGT': ['CCGGG'],\n",
       "              'CCCGG': ['ACCCG'],\n",
       "              'CGGAT': ['CCGGA'],\n",
       "              'TCCGG': ['ATCCG']}),\n",
       " defaultdict(<function lib.assembly_graph.add_reverse_complement_depth.<locals>.<lambda>()>,\n",
       "             {'AACCG': 9,\n",
       "              'CGGTT': 9,\n",
       "              'ACCGG': 10,\n",
       "              'CCGGT': 10,\n",
       "              'CCGGG': 9,\n",
       "              'CCCGG': 9,\n",
       "              'CCGGA': 1,\n",
       "              'TCCGG': 1,\n",
       "              'TACCG': 1,\n",
       "              'CGGTA': 1,\n",
       "              'TAACC': 9,\n",
       "              'GGTTA': 9,\n",
       "              'TTACC': 1,\n",
       "              'GGTAA': 1,\n",
       "              'CGGGT': 9,\n",
       "              'ACCCG': 9,\n",
       "              'CGGAT': 1,\n",
       "              'ATCCG': 1}))"
      ]
     },
     "execution_count": 1950,
     "metadata": {},
     "output_type": "execute_result"
    }
   ],
   "source": [
    "seed = {\n",
    "    'AACCG': ['ACCGG'],\n",
    "    'ACCGG': ['CCGGG', 'CCGGA'],\n",
    "    'TACCG': ['ACCGG'],\n",
    "    'TAACC': ['AACCG'],\n",
    "    'TTACC': ['TACCG'],\n",
    "    'CCGGG': ['CGGGT'],\n",
    "    'CCGGA': ['CGGAT'],\n",
    "}\n",
    "downstream, upstream = lib.assembly_graph.build_full_from_seed_graph(seed)\n",
    "\n",
    "observed_depth = lib.assembly_graph.add_reverse_complement_depth({\n",
    "    'AACCG': 9,\n",
    "    'ACCGG': 10,\n",
    "    'CCGGG': 9,\n",
    "    'CCGGA': 1,\n",
    "    'TACCG': 1,\n",
    "    'TAACC': 9,\n",
    "    'TTACC': 1,\n",
    "    'CGGGT': 9,\n",
    "    'CGGAT': 1,\n",
    "})\n",
    "\n",
    "assert lib.assembly_graph.mapping_all_upstream(upstream)\n",
    "upstream, observed_depth"
   ]
  },
  {
   "cell_type": "code",
   "execution_count": 1951,
   "metadata": {},
   "outputs": [
    {
     "data": {
      "text/plain": [
       "AACCG     9.0\n",
       "CGGTT     9.0\n",
       "ACCGG    10.0\n",
       "CCGGT    10.0\n",
       "CCGGG     9.0\n",
       "CCCGG     9.0\n",
       "CCGGA     1.0\n",
       "TCCGG     1.0\n",
       "TACCG     1.0\n",
       "CGGTA     1.0\n",
       "TAACC     9.0\n",
       "GGTTA     9.0\n",
       "TTACC     1.0\n",
       "GGTAA     1.0\n",
       "CGGGT     9.0\n",
       "ACCCG     9.0\n",
       "CGGAT     1.0\n",
       "ATCCG     1.0\n",
       "dtype: float64"
      ]
     },
     "execution_count": 1951,
     "metadata": {},
     "output_type": "execute_result"
    }
   ],
   "source": [
    "depth0 = pd.Series(observed_depth).astype(float)\n",
    "n = len(depth0)\n",
    "depth0"
   ]
  },
  {
   "cell_type": "code",
   "execution_count": 1952,
   "metadata": {},
   "outputs": [],
   "source": [
    "# \"Directed\" graph with each node pointing to nodes that are downstream.\n",
    "# If I want a graph of each node pointing upstream, that's just dgraph.T\n",
    "# After the *first* step, where I distribute each nodes depth equally upstream\n",
    "# and downstream, I'm going to need two contingency tables, because\n",
    "# uflow != dflow.T\n",
    "\n",
    "linked_5p_to_3p = downstream\n",
    "\n",
    "dgraph_5p_to_3p = pd.DataFrame(np.zeros((n, n)), index=depth0.index, columns=depth0.index)\n",
    "for k in dgraph_5p_to_3p:\n",
    "    dgraph_5p_to_3p.loc[k, linked_5p_to_3p[k]] = 1"
   ]
  },
  {
   "cell_type": "code",
   "execution_count": 1953,
   "metadata": {},
   "outputs": [
    {
     "data": {
      "text/plain": [
       "<AxesSubplot:>"
      ]
     },
     "execution_count": 1953,
     "metadata": {},
     "output_type": "execute_result"
    },
    {
     "data": {
      "image/png": "[encoded data removed]",
      "text/plain": [
       "<Figure size 432x288 with 2 Axes>"
      ]
     },
     "metadata": {
      "needs_background": "light"
     },
     "output_type": "display_data"
    }
   ],
   "source": [
    "l_contingency = dgraph_5p_to_3p.copy()\n",
    "r_contingency = dgraph_5p_to_3p.T.copy()\n",
    "\n",
    "sns.heatmap(l_contingency)"
   ]
  },
  {
   "cell_type": "code",
   "execution_count": 1954,
   "metadata": {},
   "outputs": [
    {
     "data": {
      "text/plain": [
       "<AxesSubplot:>"
      ]
     },
     "execution_count": 1954,
     "metadata": {},
     "output_type": "execute_result"
    },
    {
     "data": {
      "image/png": "[encoded data removed]",
      "text/plain": [
       "<Figure size 432x288 with 2 Axes>"
      ]
     },
     "metadata": {
      "needs_background": "light"
     },
     "output_type": "display_data"
    }
   ],
   "source": [
    "# Initialization\n",
    "\n",
    "send_to_r = r_contingency\n",
    "send_to_l = l_contingency\n",
    "\n",
    "# This is not actually the flow,\n",
    "# because it's not proportional to depth...yet.\n",
    "\n",
    "depth = depth0\n",
    "\n",
    "total_from_l = send_to_r.sum()\n",
    "total_from_r = send_to_l.sum()\n",
    "\n",
    "# When it's not initialization\n",
    "# we'll update depth here.\n",
    "\n",
    "send_to_r_next = (send_to_l / total_from_r).multiply(depth, axis=1).T\n",
    "send_to_l_next = (send_to_r / total_from_l).multiply(depth, axis=1).T\n",
    "\n",
    "# Initialization done\n",
    "send_to_r = send_to_r_next.fillna(0)\n",
    "send_to_l = send_to_l_next.fillna(0)\n",
    "\n",
    "sns.heatmap(send_to_r)\n",
    "\n",
    "# table = pd.DataFrame(dict(depth=depth, in_degree_r=total_from_r, in_degree_l=total_from_l, out_degree_r=send_to_r.sum(1), out_degree_l=send_to_l.sum(1)))\n",
    "# table"
   ]
  },
  {
   "cell_type": "code",
   "execution_count": 1993,
   "metadata": {},
   "outputs": [
    {
     "data": {
      "text/plain": [
       "AACCG     9.566258\n",
       "CGGTT     9.566258\n",
       "ACCGG    13.397460\n",
       "CCGGT    13.397460\n",
       "CCGGG     9.566258\n",
       "CCCGG     9.566258\n",
       "CCGGA     2.036282\n",
       "TCCGG     2.036282\n",
       "TACCG     2.036282\n",
       "CGGTA     2.036282\n",
       "TAACC     5.523082\n",
       "GGTTA     5.523082\n",
       "TTACC     1.175648\n",
       "GGTAA     1.175648\n",
       "CGGGT     5.523082\n",
       "ACCCG     5.523082\n",
       "CGGAT     1.175648\n",
       "ATCCG     1.175648\n",
       "dtype: float64"
      ]
     },
     "execution_count": 1993,
     "metadata": {},
     "output_type": "execute_result"
    }
   ],
   "source": [
    "# One Step\n",
    "total_from_l = send_to_r.sum()\n",
    "total_from_r = send_to_l.sum()\n",
    "\n",
    "# Graveyard of depths past.\n",
    "# depth = np.sqrt(np.mean((np.array([total_from_r, total_from_l, depth]) + 1)**2))  #  (depth0 * gamma + depth + total_from_r + total_from_l) / (3 + gamma)\n",
    "# next_depth = np.cbrt((total_from_r + pc) * (total_from_l + pc) * (depth + pc)) - pc\n",
    "# depth = (\n",
    "#     np.exp(\n",
    "#         (\n",
    "#             np.log(total_from_r + pc) +\n",
    "#             np.log(total_from_l + pc) +\n",
    "#             np.log(depth + pc)\n",
    "#         ) / (3 + pc)\n",
    "#     )\n",
    "# )\n",
    "\n",
    "# Update depth\n",
    "gamma = 1\n",
    "next_depth = (total_from_r + total_from_l + (gamma * depth)) / (2 + gamma)\n",
    "# Scale the depth so there's no overall loss.\n",
    "depth = next_depth * (depth.sum() / next_depth.sum())\n",
    "\n",
    "send_to_r_next = (send_to_l / total_from_r).multiply(depth, axis=1).T\n",
    "send_to_l_next = (send_to_r / total_from_l).multiply(depth, axis=1).T\n",
    "\n",
    "send_to_r = send_to_r_next.fillna(0)\n",
    "send_to_l = send_to_l_next.fillna(0)\n",
    "\n",
    "# Step done\n",
    "\n",
    "# sns.heatmap(send_to_r)\n",
    "# plt.plot(depth)\n",
    "# plt.ylim(0)\n",
    "depth\n",
    "\n",
    "# table = pd.DataFrame(dict(depth=depth, in_degree_r=total_from_r, in_degree_l=total_from_l, out_degree_r=send_to_r.sum(1), out_degree_l=send_to_l.sum(1)))\n",
    "# table"
   ]
  },
  {
   "cell_type": "markdown",
   "metadata": {},
   "source": [
    "# Six-cycle"
   ]
  },
  {
   "cell_type": "code",
   "execution_count": 2005,
   "metadata": {},
   "outputs": [
    {
     "data": {
      "text/plain": [
       "(defaultdict(list,\n",
       "             {'CCCGG': ['ACCCG'],\n",
       "              'CGGGT': ['CCGGG'],\n",
       "              'CCGGA': ['CCCGG'],\n",
       "              'CCGGG': ['TCCGG'],\n",
       "              'CGGAC': ['CCGGA'],\n",
       "              'TCCGG': ['GTCCG'],\n",
       "              'GGACC': ['CGGAC'],\n",
       "              'GTCCG': ['GGTCC'],\n",
       "              'GACCC': ['GGACC'],\n",
       "              'GGTCC': ['GGGTC'],\n",
       "              'ACCCG': ['GACCC'],\n",
       "              'GGGTC': ['CGGGT']}),\n",
       " defaultdict(<function lib.assembly_graph.add_reverse_complement_depth.<locals>.<lambda>()>,\n",
       "             {'ACCCG': 1,\n",
       "              'CGGGT': 1,\n",
       "              'CCCGG': 1,\n",
       "              'CCGGG': 1,\n",
       "              'CCGGA': 2,\n",
       "              'TCCGG': 2,\n",
       "              'CGGAC': 1,\n",
       "              'GTCCG': 1,\n",
       "              'GGACC': 1,\n",
       "              'GGTCC': 1,\n",
       "              'GACCC': 1,\n",
       "              'GGGTC': 1}))"
      ]
     },
     "execution_count": 2005,
     "metadata": {},
     "output_type": "execute_result"
    }
   ],
   "source": [
    "seed = {\n",
    "    'ACCCG': ['CCCGG'],\n",
    "    'CCCGG': ['CCGGA'],\n",
    "    'CCGGA': ['CGGAC'],\n",
    "    'CGGAC': ['GGACC'],\n",
    "    'GGACC': ['GACCC'],\n",
    "    'GACCC': ['ACCCG']\n",
    "}\n",
    "downstream, upstream = lib.assembly_graph.build_full_from_seed_graph(seed)\n",
    "\n",
    "observed_depth = lib.assembly_graph.add_reverse_complement_depth({\n",
    "    'ACCCG': 1,\n",
    "    'CCCGG': 1,\n",
    "    'CCGGA': 2,\n",
    "    'CGGAC': 1,\n",
    "    'GGACC': 1,\n",
    "    'GACCC': 1,\n",
    "})\n",
    "\n",
    "assert lib.assembly_graph.mapping_all_upstream(upstream)\n",
    "upstream, observed_depth"
   ]
  },
  {
   "cell_type": "code",
   "execution_count": 2006,
   "metadata": {},
   "outputs": [
    {
     "data": {
      "text/plain": [
       "ACCCG    1.0\n",
       "CGGGT    1.0\n",
       "CCCGG    1.0\n",
       "CCGGG    1.0\n",
       "CCGGA    2.0\n",
       "TCCGG    2.0\n",
       "CGGAC    1.0\n",
       "GTCCG    1.0\n",
       "GGACC    1.0\n",
       "GGTCC    1.0\n",
       "GACCC    1.0\n",
       "GGGTC    1.0\n",
       "dtype: float64"
      ]
     },
     "execution_count": 2006,
     "metadata": {},
     "output_type": "execute_result"
    }
   ],
   "source": [
    "depth0 = pd.Series(observed_depth).astype(float)\n",
    "n = len(depth0)\n",
    "depth0"
   ]
  },
  {
   "cell_type": "code",
   "execution_count": 2007,
   "metadata": {},
   "outputs": [],
   "source": [
    "# \"Directed\" graph with each node pointing to nodes that are downstream.\n",
    "# If I want a graph of each node pointing upstream, that's just dgraph.T\n",
    "# After the *first* step, where I distribute each nodes depth equally upstream\n",
    "# and downstream, I'm going to need two contingency tables, because\n",
    "# uflow != dflow.T\n",
    "\n",
    "linked_5p_to_3p = downstream\n",
    "\n",
    "dgraph_5p_to_3p = pd.DataFrame(np.zeros((n, n)), index=depth0.index, columns=depth0.index)\n",
    "for k in dgraph_5p_to_3p:\n",
    "    dgraph_5p_to_3p.loc[k, linked_5p_to_3p[k]] = 1"
   ]
  },
  {
   "cell_type": "code",
   "execution_count": 2008,
   "metadata": {},
   "outputs": [
    {
     "data": {
      "text/plain": [
       "<AxesSubplot:>"
      ]
     },
     "execution_count": 2008,
     "metadata": {},
     "output_type": "execute_result"
    },
    {
     "data": {
      "image/png": "[encoded data removed]",
      "text/plain": [
       "<Figure size 432x288 with 2 Axes>"
      ]
     },
     "metadata": {
      "needs_background": "light"
     },
     "output_type": "display_data"
    }
   ],
   "source": [
    "l_contingency = dgraph_5p_to_3p.copy()\n",
    "r_contingency = dgraph_5p_to_3p.T.copy()\n",
    "\n",
    "sns.heatmap(l_contingency)"
   ]
  },
  {
   "cell_type": "code",
   "execution_count": 2009,
   "metadata": {},
   "outputs": [
    {
     "data": {
      "text/plain": [
       "<AxesSubplot:>"
      ]
     },
     "execution_count": 2009,
     "metadata": {},
     "output_type": "execute_result"
    },
    {
     "data": {
      "image/png": "[encoded data removed]",
      "text/plain": [
       "<Figure size 432x288 with 2 Axes>"
      ]
     },
     "metadata": {
      "needs_background": "light"
     },
     "output_type": "display_data"
    }
   ],
   "source": [
    "# Initialization\n",
    "\n",
    "send_to_r = r_contingency\n",
    "send_to_l = l_contingency\n",
    "\n",
    "# This is not actually the flow,\n",
    "# because it's not proportional to depth...yet.\n",
    "\n",
    "depth = depth0\n",
    "\n",
    "total_from_l = send_to_r.sum()\n",
    "total_from_r = send_to_l.sum()\n",
    "\n",
    "# When it's not initialization\n",
    "# we'll update depth here.\n",
    "\n",
    "send_to_r_next = (send_to_l / total_from_r).multiply(depth, axis=1).T\n",
    "send_to_l_next = (send_to_r / total_from_l).multiply(depth, axis=1).T\n",
    "\n",
    "# Initialization done\n",
    "send_to_r = send_to_r_next.fillna(0)\n",
    "send_to_l = send_to_l_next.fillna(0)\n",
    "\n",
    "sns.heatmap(send_to_r)\n",
    "\n",
    "# table = pd.DataFrame(dict(depth=depth, in_degree_r=total_from_r, in_degree_l=total_from_l, out_degree_r=send_to_r.sum(1), out_degree_l=send_to_l.sum(1)))\n",
    "# table"
   ]
  },
  {
   "cell_type": "code",
   "execution_count": 2050,
   "metadata": {},
   "outputs": [
    {
     "data": {
      "text/plain": [
       "ACCCG    1.166667\n",
       "CGGGT    1.166667\n",
       "CCCGG    1.166667\n",
       "CCGGG    1.166667\n",
       "CCGGA    1.166667\n",
       "TCCGG    1.166667\n",
       "CGGAC    1.166667\n",
       "GTCCG    1.166667\n",
       "GGACC    1.166667\n",
       "GGTCC    1.166667\n",
       "GACCC    1.166667\n",
       "GGGTC    1.166667\n",
       "dtype: float64"
      ]
     },
     "execution_count": 2050,
     "metadata": {},
     "output_type": "execute_result"
    }
   ],
   "source": [
    "# One Step\n",
    "total_from_l = send_to_r.sum()\n",
    "total_from_r = send_to_l.sum()\n",
    "\n",
    "# Graveyard of depths past.\n",
    "# depth = np.sqrt(np.mean((np.array([total_from_r, total_from_l, depth]) + 1)**2))  #  (depth0 * gamma + depth + total_from_r + total_from_l) / (3 + gamma)\n",
    "# next_depth = np.cbrt((total_from_r + pc) * (total_from_l + pc) * (depth + pc)) - pc\n",
    "# depth = (\n",
    "#     np.exp(\n",
    "#         (\n",
    "#             np.log(total_from_r + pc) +\n",
    "#             np.log(total_from_l + pc) +\n",
    "#             np.log(depth + pc)\n",
    "#         ) / (3 + pc)\n",
    "#     )\n",
    "# )\n",
    "\n",
    "# Update depth\n",
    "gamma = 1\n",
    "next_depth = (total_from_r + total_from_l + (gamma * depth)) / (2 + gamma)\n",
    "# Scale the depth so there's no overall loss.\n",
    "depth = next_depth * (depth.sum() / next_depth.sum())\n",
    "\n",
    "send_to_r_next = (send_to_l / total_from_r).multiply(depth, axis=1).T\n",
    "send_to_l_next = (send_to_r / total_from_l).multiply(depth, axis=1).T\n",
    "\n",
    "send_to_r = send_to_r_next.fillna(0)\n",
    "send_to_l = send_to_l_next.fillna(0)\n",
    "\n",
    "# Step done\n",
    "\n",
    "# sns.heatmap(send_to_r)\n",
    "# plt.plot(depth)\n",
    "# plt.ylim(0)\n",
    "depth\n",
    "\n",
    "# table = pd.DataFrame(dict(depth=depth, in_degree_r=total_from_r, in_degree_l=total_from_l, out_degree_r=send_to_r.sum(1), out_degree_l=send_to_l.sum(1)))\n",
    "# table"
   ]
  },
  {
   "cell_type": "markdown",
   "metadata": {},
   "source": [
    "# Double-six-cycle"
   ]
  },
  {
   "cell_type": "code",
   "execution_count": 2198,
   "metadata": {},
   "outputs": [
    {
     "data": {
      "text/plain": [
       "(defaultdict(list,\n",
       "             {'GACCC': ['GGACC'],\n",
       "              'GGTCC': ['GGGTC'],\n",
       "              'ACCCG': ['GACCC'],\n",
       "              'GGGTC': ['CGGGT'],\n",
       "              'CCCGG': ['ACCCG'],\n",
       "              'CGGGT': ['CCGGG'],\n",
       "              'CCGGA': ['CCCGG'],\n",
       "              'CCGGG': ['TCCGG'],\n",
       "              'CGGAC': ['CCGGA', 'TCGGA'],\n",
       "              'TCCGG': ['GTCCG'],\n",
       "              'GGACC': ['CGGAC'],\n",
       "              'GTCCG': ['GGTCC', 'AGTCC'],\n",
       "              'GGACT': ['CGGAC'],\n",
       "              'GACTC': ['GGACT'],\n",
       "              'AGTCC': ['GAGTC'],\n",
       "              'ACTCG': ['GACTC'],\n",
       "              'GAGTC': ['CGAGT'],\n",
       "              'CTCGG': ['ACTCG'],\n",
       "              'CGAGT': ['CCGAG'],\n",
       "              'TCGGA': ['CTCGG'],\n",
       "              'CCGAG': ['TCCGA'],\n",
       "              'TCCGA': ['GTCCG']}),\n",
       " defaultdict(<function lib.assembly_graph.add_reverse_complement_depth.<locals>.<lambda>()>,\n",
       "             {'GGACC': 1,\n",
       "              'GGTCC': 1,\n",
       "              'GACCC': 1,\n",
       "              'GGGTC': 1,\n",
       "              'ACCCG': 1,\n",
       "              'CGGGT': 1,\n",
       "              'CCCGG': 1,\n",
       "              'CCGGG': 1,\n",
       "              'CCGGA': 1,\n",
       "              'TCCGG': 1,\n",
       "              'CGGAC': 1,\n",
       "              'GTCCG': 1,\n",
       "              'GGACT': 2,\n",
       "              'AGTCC': 2,\n",
       "              'GACTC': 2,\n",
       "              'GAGTC': 2,\n",
       "              'ACTCG': 2,\n",
       "              'CGAGT': 2,\n",
       "              'CTCGG': 2,\n",
       "              'CCGAG': 2,\n",
       "              'TCGGA': 2,\n",
       "              'TCCGA': 2}))"
      ]
     },
     "execution_count": 2198,
     "metadata": {},
     "output_type": "execute_result"
    }
   ],
   "source": [
    "seed = {\n",
    "    # Top cycle\n",
    "    'GGACC': ['GACCC'],\n",
    "    'GACCC': ['ACCCG'],\n",
    "    'ACCCG': ['CCCGG'],\n",
    "    'CCCGG': ['CCGGA'],\n",
    "    'CCGGA': ['CGGAC'],\n",
    "    \n",
    "    # Link\n",
    "    'CGGAC': ['GGACC', 'GGACT'],\n",
    "    \n",
    "    # Bottom cycle\n",
    "    'GGACT': ['GACTC'],\n",
    "    'GACTC': ['ACTCG'],\n",
    "    'ACTCG': ['CTCGG'],\n",
    "    'CTCGG': ['TCGGA'],\n",
    "    'TCGGA': ['CGGAC'],\n",
    "    \n",
    "}\n",
    "downstream, upstream = lib.assembly_graph.build_full_from_seed_graph(seed)\n",
    "\n",
    "observed_depth = lib.assembly_graph.add_reverse_complement_depth({\n",
    "    # Top cycle\n",
    "    'GGACC': 1,\n",
    "    'GACCC': 1,\n",
    "    'ACCCG': 1,\n",
    "    'CCCGG': 1,\n",
    "    'CCGGA': 1,\n",
    "    \n",
    "    # Link\n",
    "    'CGGAC': 1,\n",
    "    \n",
    "    # Bottom \n",
    "    'GGACT': 2, \n",
    "    'GACTC': 2,\n",
    "    'ACTCG': 2,\n",
    "    'CTCGG': 2,\n",
    "    'TCGGA': 2,\n",
    "})\n",
    "\n",
    "assert lib.assembly_graph.mapping_all_upstream(upstream)\n",
    "upstream, observed_depth"
   ]
  },
  {
   "cell_type": "code",
   "execution_count": 2199,
   "metadata": {},
   "outputs": [
    {
     "data": {
      "text/plain": [
       "GGACC    1.0\n",
       "GGTCC    1.0\n",
       "GACCC    1.0\n",
       "GGGTC    1.0\n",
       "ACCCG    1.0\n",
       "CGGGT    1.0\n",
       "CCCGG    1.0\n",
       "CCGGG    1.0\n",
       "CCGGA    1.0\n",
       "TCCGG    1.0\n",
       "CGGAC    1.0\n",
       "GTCCG    1.0\n",
       "GGACT    2.0\n",
       "AGTCC    2.0\n",
       "GACTC    2.0\n",
       "GAGTC    2.0\n",
       "ACTCG    2.0\n",
       "CGAGT    2.0\n",
       "CTCGG    2.0\n",
       "CCGAG    2.0\n",
       "TCGGA    2.0\n",
       "TCCGA    2.0\n",
       "dtype: float64"
      ]
     },
     "execution_count": 2199,
     "metadata": {},
     "output_type": "execute_result"
    }
   ],
   "source": [
    "depth0 = pd.Series(observed_depth).astype(float)\n",
    "n = len(depth0)\n",
    "depth0"
   ]
  },
  {
   "cell_type": "code",
   "execution_count": 2200,
   "metadata": {},
   "outputs": [],
   "source": [
    "# \"Directed\" graph with each node pointing to nodes that are downstream.\n",
    "# If I want a graph of each node pointing upstream, that's just dgraph.T\n",
    "# After the *first* step, where I distribute each nodes depth equally upstream\n",
    "# and downstream, I'm going to need two contingency tables, because\n",
    "# uflow != dflow.T\n",
    "\n",
    "linked_5p_to_3p = downstream\n",
    "\n",
    "dgraph_5p_to_3p = pd.DataFrame(np.zeros((n, n)), index=depth0.index, columns=depth0.index)\n",
    "for k in dgraph_5p_to_3p:\n",
    "    dgraph_5p_to_3p.loc[k, linked_5p_to_3p[k]] = 1"
   ]
  },
  {
   "cell_type": "code",
   "execution_count": 2201,
   "metadata": {},
   "outputs": [
    {
     "data": {
      "text/plain": [
       "<AxesSubplot:>"
      ]
     },
     "execution_count": 2201,
     "metadata": {},
     "output_type": "execute_result"
    },
    {
     "data": {
      "image/png": "[encoded data removed]",
      "text/plain": [
       "<Figure size 432x288 with 2 Axes>"
      ]
     },
     "metadata": {
      "needs_background": "light"
     },
     "output_type": "display_data"
    }
   ],
   "source": [
    "l_contingency = dgraph_5p_to_3p.copy()\n",
    "r_contingency = dgraph_5p_to_3p.T.copy()\n",
    "\n",
    "sns.heatmap(l_contingency)"
   ]
  },
  {
   "cell_type": "code",
   "execution_count": 2202,
   "metadata": {},
   "outputs": [
    {
     "data": {
      "text/plain": [
       "<AxesSubplot:>"
      ]
     },
     "execution_count": 2202,
     "metadata": {},
     "output_type": "execute_result"
    },
    {
     "data": {
      "image/png": "[encoded data removed]",
      "text/plain": [
       "<Figure size 432x288 with 2 Axes>"
      ]
     },
     "metadata": {
      "needs_background": "light"
     },
     "output_type": "display_data"
    }
   ],
   "source": [
    "# Initialization\n",
    "\n",
    "send_to_r = r_contingency\n",
    "send_to_l = l_contingency\n",
    "\n",
    "# This is not actually the flow,\n",
    "# because it's not proportional to depth...yet.\n",
    "\n",
    "depth = depth0\n",
    "\n",
    "total_from_l = send_to_r.sum()\n",
    "total_from_r = send_to_l.sum()\n",
    "\n",
    "# When it's not initialization\n",
    "# we'll update depth here.\n",
    "\n",
    "send_to_r_next = (send_to_l / total_from_r).multiply(depth, axis=1).T\n",
    "send_to_l_next = (send_to_r / total_from_l).multiply(depth, axis=1).T\n",
    "\n",
    "# Initialization done\n",
    "send_to_r = send_to_r_next.fillna(0)\n",
    "send_to_l = send_to_l_next.fillna(0)\n",
    "\n",
    "sns.heatmap(send_to_r)\n",
    "\n",
    "# table = pd.DataFrame(dict(depth=depth, in_degree_r=total_from_r, in_degree_l=total_from_l, out_degree_r=send_to_r.sum(1), out_degree_l=send_to_l.sum(1)))\n",
    "# table"
   ]
  },
  {
   "cell_type": "code",
   "execution_count": 2238,
   "metadata": {},
   "outputs": [
    {
     "data": {
      "text/plain": [
       "GGACC    0.888744\n",
       "GGTCC    0.888744\n",
       "GACCC    0.898343\n",
       "GGGTC    0.898343\n",
       "ACCCG    0.903118\n",
       "CGGGT    0.903118\n",
       "CCCGG    0.898343\n",
       "CCGGG    0.898343\n",
       "CCGGA    0.888744\n",
       "TCCGG    0.888744\n",
       "CGGAC    2.637570\n",
       "GTCCG    2.637570\n",
       "GGACT    1.763396\n",
       "AGTCC    1.763396\n",
       "GACTC    1.782872\n",
       "GAGTC    1.782872\n",
       "ACTCG    1.792603\n",
       "CGAGT    1.792603\n",
       "CTCGG    1.782872\n",
       "CCGAG    1.782872\n",
       "TCGGA    1.763396\n",
       "TCCGA    1.763396\n",
       "dtype: float64"
      ]
     },
     "execution_count": 2238,
     "metadata": {},
     "output_type": "execute_result"
    }
   ],
   "source": [
    "# One Step\n",
    "total_from_l = send_to_r.sum()\n",
    "total_from_r = send_to_l.sum()\n",
    "\n",
    "# Graveyard of depths past.\n",
    "# depth = np.sqrt(np.mean((np.array([total_from_r, total_from_l, depth]) + 1)**2))  #  (depth0 * gamma + depth + total_from_r + total_from_l) / (3 + gamma)\n",
    "# next_depth = np.cbrt((total_from_r + pc) * (total_from_l + pc) * (depth + pc)) - pc\n",
    "# depth = (\n",
    "#     np.exp(\n",
    "#         (\n",
    "#             np.log(total_from_r + pc) +\n",
    "#             np.log(total_from_l + pc) +\n",
    "#             np.log(depth + pc)\n",
    "#         ) / (3 + pc)\n",
    "#     )\n",
    "# )\n",
    "\n",
    "# Update depth\n",
    "gamma = 10\n",
    "next_depth = (total_from_r + total_from_l + (gamma * depth)) / (2 + gamma)\n",
    "# Scale the depth so there's no overall loss.\n",
    "depth = next_depth * (depth.sum() / next_depth.sum())\n",
    "\n",
    "send_to_r_next = (send_to_l / total_from_r).multiply(depth, axis=1).T\n",
    "send_to_l_next = (send_to_r / total_from_l).multiply(depth, axis=1).T\n",
    "\n",
    "send_to_r = send_to_r_next.fillna(0)\n",
    "send_to_l = send_to_l_next.fillna(0)\n",
    "\n",
    "# Step done\n",
    "\n",
    "# sns.heatmap(send_to_r)\n",
    "# plt.plot(depth)\n",
    "# plt.ylim(0)\n",
    "depth\n",
    "\n",
    "# table = pd.DataFrame(dict(depth=depth, in_degree_r=total_from_r, in_degree_l=total_from_l, out_degree_r=send_to_r.sum(1), out_degree_l=send_to_l.sum(1)))\n",
    "# table"
   ]
  }
 ],
 "metadata": {
  "kernelspec": {
   "display_name": "Python 3",
   "language": "python",
   "name": "python3"
  },
  "language_info": {
   "codemirror_mode": {
    "name": "ipython",
    "version": 3
   },
   "file_extension": ".py",
   "mimetype": "text/x-python",
   "name": "python",
   "nbconvert_exporter": "python",
   "pygments_lexer": "ipython3",
   "version": "3.8.6"
  }
 },
 "nbformat": 4,
 "nbformat_minor": 4
}
